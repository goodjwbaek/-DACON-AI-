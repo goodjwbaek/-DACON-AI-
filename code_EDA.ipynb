{
  "cells": [
    {
      "cell_type": "markdown",
      "source": "# **1. 라이브러리 불러오기**",
      "metadata": {
        "cell_id": "00000-f30d8735-608d-4a7d-bdce-42db4c7511f8",
        "deepnote_cell_type": "markdown"
      }
    },
    {
      "cell_type": "code",
      "metadata": {
        "cell_id": "00001-d4028ff3-9c4b-4c39-9cb7-9a0e452002fc",
        "deepnote_to_be_reexecuted": false,
        "source_hash": "77f00542",
        "execution_millis": 5628,
        "execution_start": 1619004031990,
        "deepnote_cell_type": "code"
      },
      "source": "import numpy as np\nimport pandas as pd\nimport os\nimport gc\nimport matplotlib.pyplot as plt\nimport tensorflow as tf\nfrom sklearn.model_selection import train_test_split\nfrom tqdm import tqdm",
      "outputs": [],
      "execution_count": null
    },
    {
      "cell_type": "markdown",
      "source": "# **2. 데이터 불러오기 및 간단 EDA**",
      "metadata": {
        "cell_id": "00002-2f06b97e-5568-4eb9-a52d-271179610972",
        "deepnote_cell_type": "markdown"
      }
    },
    {
      "cell_type": "code",
      "metadata": {
        "cell_id": "00003-0f7ed63b-bee0-482a-8232-11e012b9e806",
        "deepnote_to_be_reexecuted": false,
        "source_hash": "4a09a83f",
        "execution_millis": 12430,
        "execution_start": 1619004037627,
        "deepnote_cell_type": "code"
      },
      "source": "train=pd.read_csv('train.csv')\ntest=pd.read_csv('test.csv')\nsubmission=pd.read_csv('sample_submission.csv')\n#주의: baseline에서는 validation_sample을 사용하지 않았습니다.",
      "outputs": [],
      "execution_count": null
    },
    {
      "cell_type": "code",
      "metadata": {
        "cell_id": "00004-811045c9-116e-4b2c-afe7-8f8191028006",
        "deepnote_to_be_reexecuted": false,
        "source_hash": "c3404522",
        "execution_start": 1619004050061,
        "execution_millis": 10,
        "deepnote_cell_type": "code"
      },
      "source": "print(train.shape, test.shape, submission.shape)",
      "outputs": [
        {
          "name": "stdout",
          "text": "(472972, 3) (1418916, 2) (1418916, 2)\n",
          "output_type": "stream"
        }
      ],
      "execution_count": null
    },
    {
      "cell_type": "code",
      "metadata": {
        "cell_id": "00005-2072afe1-ffd4-4e74-96fc-d4564b01a7bd",
        "deepnote_to_be_reexecuted": false,
        "source_hash": "e1f0b45",
        "execution_start": 1619004050084,
        "execution_millis": 19,
        "deepnote_cell_type": "code"
      },
      "source": "train.head()",
      "outputs": [
        {
          "output_type": "execute_result",
          "execution_count": 4,
          "data": {
            "application/vnd.deepnote.dataframe.v2+json": {
              "row_count": 5,
              "column_count": 3,
              "columns": [
                {
                  "name": "id",
                  "dtype": "int64",
                  "stats": {
                    "unique_count": 5,
                    "nan_count": 0,
                    "min": "0",
                    "max": "4",
                    "histogram": [
                      {
                        "bin_start": 0,
                        "bin_end": 0.4,
                        "count": 1
                      },
                      {
                        "bin_start": 0.4,
                        "bin_end": 0.8,
                        "count": 0
                      },
                      {
                        "bin_start": 0.8,
                        "bin_end": 1.2000000000000002,
                        "count": 1
                      },
                      {
                        "bin_start": 1.2000000000000002,
                        "bin_end": 1.6,
                        "count": 0
                      },
                      {
                        "bin_start": 1.6,
                        "bin_end": 2,
                        "count": 0
                      },
                      {
                        "bin_start": 2,
                        "bin_end": 2.4000000000000004,
                        "count": 1
                      },
                      {
                        "bin_start": 2.4000000000000004,
                        "bin_end": 2.8000000000000003,
                        "count": 0
                      },
                      {
                        "bin_start": 2.8000000000000003,
                        "bin_end": 3.2,
                        "count": 1
                      },
                      {
                        "bin_start": 3.2,
                        "bin_end": 3.6,
                        "count": 0
                      },
                      {
                        "bin_start": 3.6,
                        "bin_end": 4,
                        "count": 1
                      }
                    ]
                  }
                },
                {
                  "name": "level",
                  "dtype": "int64",
                  "stats": {
                    "unique_count": 2,
                    "nan_count": 0,
                    "min": "0",
                    "max": "1",
                    "histogram": [
                      {
                        "bin_start": 0,
                        "bin_end": 0.1,
                        "count": 4
                      },
                      {
                        "bin_start": 0.1,
                        "bin_end": 0.2,
                        "count": 0
                      },
                      {
                        "bin_start": 0.2,
                        "bin_end": 0.30000000000000004,
                        "count": 0
                      },
                      {
                        "bin_start": 0.30000000000000004,
                        "bin_end": 0.4,
                        "count": 0
                      },
                      {
                        "bin_start": 0.4,
                        "bin_end": 0.5,
                        "count": 0
                      },
                      {
                        "bin_start": 0.5,
                        "bin_end": 0.6000000000000001,
                        "count": 0
                      },
                      {
                        "bin_start": 0.6000000000000001,
                        "bin_end": 0.7000000000000001,
                        "count": 0
                      },
                      {
                        "bin_start": 0.7000000000000001,
                        "bin_end": 0.8,
                        "count": 0
                      },
                      {
                        "bin_start": 0.8,
                        "bin_end": 0.9,
                        "count": 0
                      },
                      {
                        "bin_start": 0.9,
                        "bin_end": 1,
                        "count": 1
                      }
                    ]
                  }
                },
                {
                  "name": "full_log",
                  "dtype": "object",
                  "stats": {
                    "unique_count": 5,
                    "nan_count": 0,
                    "categories": [
                      {
                        "name": "Sep 24 10:02:22 localhost kibana: {\"type\":\"error\",\"@timestamp\":\"2020-09-24T01:02:22Z\",\"tags\":[\"warning\",\"stats-collection\"],\"pid\":6458,\"level\":\"error\",\"error\":{\"message\":\"No Living connections\",\"name\":\"Error\",\"stack\":\"Error: No Living connections\\n    at sendReqWithConnection (/usr/share/kibana/node_modules/elasticsearch/src/lib/transport.js:226:15)\\n    at next (/usr/share/kibana/node_modules/elasticsearch/src/lib/connection_pool.js:214:7)\\n    at process._tickCallback (internal/process/next_tick.js:61:11)\"},\"message\":\"No Living connections\"}",
                        "count": 1
                      },
                      {
                        "name": "Feb  8 16:21:00 localhost logstash: [2021-02-08T16:21:00,548][INFO ][logstash.outputs.elasticsearch] retrying failed action with response code: 503 ({\"type\"=>\"unavailable_shards_exception\", \"reason\"=>\"[wazuh-alerts-audit-3.x-2021.16.08][3] primary shard is not active Timeout: [1m], request: [BulkShardRequest [[wazuh-alerts-audit-3.x-2021.16.08][3]] containing [25] requests]\"})",
                        "count": 1
                      },
                      {
                        "name": "3 others",
                        "count": 3
                      }
                    ]
                  }
                },
                {
                  "name": "_deepnote_index_column",
                  "dtype": "int64"
                }
              ],
              "rows_top": [
                {
                  "id": 0,
                  "level": 0,
                  "full_log": "Sep 24 10:02:22 localhost kibana: {\"type\":\"error\",\"@timestamp\":\"2020-09-24T01:02:22Z\",\"tags\":[\"warning\",\"stats-collection\"],\"pid\":6458,\"level\":\"error\",\"error\":{\"message\":\"No Living connections\",\"name\":\"Error\",\"stack\":\"Error: No Living connections\\n    at sendReqWithConnection (/usr/share/kibana/node_modules/elasticsearch/src/lib/transport.js:226:15)\\n    at next (/usr/share/kibana/node_modules/elasticsearch/src/lib/connection_pool.js:214:7)\\n    at process._tickCallback (internal/process/next_tick.js:61:11)\"},\"message\":\"No Living connections\"}",
                  "_deepnote_index_column": 0
                },
                {
                  "id": 1,
                  "level": 0,
                  "full_log": "Feb  8 16:21:00 localhost logstash: [2021-02-08T16:21:00,548][INFO ][logstash.outputs.elasticsearch] retrying failed action with response code: 503 ({\"type\"=>\"unavailable_shards_exception\", \"reason\"=>\"[wazuh-alerts-audit-3.x-2021.16.08][3] primary shard is not active Timeout: [1m], request: [BulkShardRequest [[wazuh-alerts-audit-3.x-2021.16.08][3]] containing [25] requests]\"})",
                  "_deepnote_index_column": 1
                },
                {
                  "id": 2,
                  "level": 0,
                  "full_log": "Jan 13 01:50:40 localhost kibana: {\"type\":\"error\",\"@timestamp\":\"2021-01-12T16:50:40Z\",\"tags\":[\"warning\",\"stats-collection\"],\"pid\":4332,\"level\":\"error\",\"error\":{\"message\":\"No Living connections\",\"name\":\"Error\",\"stack\":\"Error: No Living connections\\n    at sendReqWithConnection (/usr/share/kibana/node_modules/elasticsearch/src/lib/transport.js:226:15)\\n    at next (/usr/share/kibana/node_modules/elasticsearch/src/lib/connection_pool.js:214:7)\\n    at process._tickCallback (internal/process/next_tick.js:61:11)\"},\"message\":\"No Living connections\"}",
                  "_deepnote_index_column": 2
                },
                {
                  "id": 3,
                  "level": 0,
                  "full_log": "Jan  4 10:18:31 localhost kibana: {\"type\":\"error\",\"@timestamp\":\"2021-01-04T01:18:31Z\",\"tags\":[\"warning\",\"stats-collection\"],\"pid\":4820,\"level\":\"error\",\"error\":{\"message\":\"No Living connections\",\"name\":\"Error\",\"stack\":\"Error: No Living connections\\n    at sendReqWithConnection (/usr/share/kibana/node_modules/elasticsearch/src/lib/transport.js:226:15)\\n    at next (/usr/share/kibana/node_modules/elasticsearch/src/lib/connection_pool.js:214:7)\\n    at process._tickCallback (internal/process/next_tick.js:61:11)\"},\"message\":\"No Living connections\"}",
                  "_deepnote_index_column": 3
                },
                {
                  "id": 4,
                  "level": 1,
                  "full_log": "type=SYSCALL msg=audit(1603094402.016:52981): arch=c000003e syscall=2 success=yes exit=3 a0=7ff220e805a4 a1=80000 a2=1 a3=7ff2210864f8 items=1 ppid=5877 pid=5878 auid=0 uid=0 gid=0 euid=0 suid=0 fsuid=0 egid=0 sgid=0 fsgid=0 tty=(none) ses=45 comm=\"date\" exe=\"/usr/bin/date\" subj=system_u:system_r:sysstat_t:s0-s0:c0.c1023 key=\"audit-wazuh-r\" type=CWD msg=audit(1603094402.016:52981):  cwd=\"/root\" type=PATH msg=audit(1603094402.016:52981): item=0 name=\"/etc/ld.so.cache\" inode=69008420 dev=fd:00 mode=0100644 ouid=0 ogid=0 rdev=00:00 obj=unconfined_u:object_r:ld_so_cache_t:s0 objtype=NORMAL type=PROCTITLE msg=audit(1603094402.016:52981): proctitle=64617465002B2564",
                  "_deepnote_index_column": 4
                }
              ],
              "rows_bottom": null
            },
            "text/plain": "   id  level                                           full_log\n0   0      0  Sep 24 10:02:22 localhost kibana: {\"type\":\"err...\n1   1      0  Feb  8 16:21:00 localhost logstash: [2021-02-0...\n2   2      0  Jan 13 01:50:40 localhost kibana: {\"type\":\"err...\n3   3      0  Jan  4 10:18:31 localhost kibana: {\"type\":\"err...\n4   4      1  type=SYSCALL msg=audit(1603094402.016:52981): ...",
            "text/html": "<div>\n<style scoped>\n    .dataframe tbody tr th:only-of-type {\n        vertical-align: middle;\n    }\n\n    .dataframe tbody tr th {\n        vertical-align: top;\n    }\n\n    .dataframe thead th {\n        text-align: right;\n    }\n</style>\n<table border=\"1\" class=\"dataframe\">\n  <thead>\n    <tr style=\"text-align: right;\">\n      <th></th>\n      <th>id</th>\n      <th>level</th>\n      <th>full_log</th>\n    </tr>\n  </thead>\n  <tbody>\n    <tr>\n      <th>0</th>\n      <td>0</td>\n      <td>0</td>\n      <td>Sep 24 10:02:22 localhost kibana: {\"type\":\"err...</td>\n    </tr>\n    <tr>\n      <th>1</th>\n      <td>1</td>\n      <td>0</td>\n      <td>Feb  8 16:21:00 localhost logstash: [2021-02-0...</td>\n    </tr>\n    <tr>\n      <th>2</th>\n      <td>2</td>\n      <td>0</td>\n      <td>Jan 13 01:50:40 localhost kibana: {\"type\":\"err...</td>\n    </tr>\n    <tr>\n      <th>3</th>\n      <td>3</td>\n      <td>0</td>\n      <td>Jan  4 10:18:31 localhost kibana: {\"type\":\"err...</td>\n    </tr>\n    <tr>\n      <th>4</th>\n      <td>4</td>\n      <td>1</td>\n      <td>type=SYSCALL msg=audit(1603094402.016:52981): ...</td>\n    </tr>\n  </tbody>\n</table>\n</div>"
          },
          "metadata": {}
        }
      ],
      "execution_count": null
    },
    {
      "cell_type": "code",
      "metadata": {
        "cell_id": "00006-cc1e7d51-f9a5-47cb-ba63-2b5922260ac2",
        "deepnote_to_be_reexecuted": false,
        "source_hash": "4488586c",
        "execution_start": 1619004050101,
        "execution_millis": 13,
        "deepnote_cell_type": "code"
      },
      "source": "#test는 level값이 없습니다\ntest.head()",
      "outputs": [
        {
          "output_type": "execute_result",
          "execution_count": 5,
          "data": {
            "application/vnd.deepnote.dataframe.v2+json": {
              "row_count": 5,
              "column_count": 2,
              "columns": [
                {
                  "name": "id",
                  "dtype": "int64",
                  "stats": {
                    "unique_count": 5,
                    "nan_count": 0,
                    "min": "1000000",
                    "max": "1000004",
                    "histogram": [
                      {
                        "bin_start": 1000000,
                        "bin_end": 1000000.4,
                        "count": 1
                      },
                      {
                        "bin_start": 1000000.4,
                        "bin_end": 1000000.8,
                        "count": 0
                      },
                      {
                        "bin_start": 1000000.8,
                        "bin_end": 1000001.2,
                        "count": 1
                      },
                      {
                        "bin_start": 1000001.2,
                        "bin_end": 1000001.6,
                        "count": 0
                      },
                      {
                        "bin_start": 1000001.6,
                        "bin_end": 1000002,
                        "count": 0
                      },
                      {
                        "bin_start": 1000002,
                        "bin_end": 1000002.4,
                        "count": 1
                      },
                      {
                        "bin_start": 1000002.4,
                        "bin_end": 1000002.8,
                        "count": 0
                      },
                      {
                        "bin_start": 1000002.8,
                        "bin_end": 1000003.2,
                        "count": 1
                      },
                      {
                        "bin_start": 1000003.2,
                        "bin_end": 1000003.6,
                        "count": 0
                      },
                      {
                        "bin_start": 1000003.6,
                        "bin_end": 1000004,
                        "count": 1
                      }
                    ]
                  }
                },
                {
                  "name": "full_log",
                  "dtype": "object",
                  "stats": {
                    "unique_count": 5,
                    "nan_count": 0,
                    "categories": [
                      {
                        "name": "Feb  8 15:47:26 localhost kibana: {\"type\":\"error\",\"@timestamp\":\"2021-02-08T06:47:26Z\",\"tags\":[\"warning\",\"stats-collection\"],\"pid\":4604,\"level\":\"error\",\"error\":{\"message\":\"[search_phase_execution_exception] all shards failed\",\"name\":\"Error\",\"stack\":\"[search_phase_execution_exception] all shards failed :: {\\\"path\\\":\\\"/.kibana_task_manager/_doc/_search\\\",\\\"query\\\":{\\\"ignore_unavailable\\\":true},\\\"body\\\":\\\"{\\\\\\\"sort\\\\\\\":[{\\\\\\\"task.runAt\\\\\\\":\\\\\\\"asc\\\\\\\"},{\\\\\\\"_id\\\\\\\":\\\\\\\"desc\\\\\\\"}],\\\\\\\"query\\\\\\\":{\\\\\\\"bool\\\\\\\":{\\\\\\\"must\\\\\\\":[{\\\\\\\"term\\\\\\\":{\\\\\\\"type\\\\\\\":\\\\\\\"task\\\\\\\"}},{\\\\\\\"bool\\\\\\\":{\\\\\\\"filter\\\\\\\":{\\\\\\\"term\\\\\\\":{\\\\\\\"_id\\\\\\\":\\\\\\\"oss_telemetry-vis_telemetry\\\\\\\"}}}}]}}}\\\",\\\"statusCode\\\":503,\\\"response\\\":\\\"{\\\\\\\"error\\\\\\\":{\\\\\\\"root_cause\\\\\\\":[],\\\\\\\"type\\\\\\\":\\\\\\\"search_phase_execution_exception\\\\\\\",\\\\\\\"reason\\\\\\\":\\\\\\\"all shards failed\\\\\\\",\\\\\\\"phase\\\\\\\":\\\\\\\"query\\\\\\\",\\\\\\\"grouped\\\\\\\":true,\\\\\\\"failed_shards\\\\\\\":[]},\\\\\\\"status\\\\\\\":503}\\\"}\\n    at respond (/usr/share/kibana/node_modules/elasticsearch/src/lib/transport.js:308:15)\\n    at checkRespForFailure (/usr/share/kibana/node_modules/elasticsearch/src/lib/transport.js:267:7)\\n    at HttpConnector.<anonymous> (/usr/share/kibana/node_modules/elasticsearch/src/lib/connectors/http.js:166:7)\\n    at IncomingMessage.wrapper (/usr/share/kibana/node_modules/elasticsearch/node_modules/lodash/lodash.js:4935:19)\\n    at IncomingMessage.emit (events.js:194:15)\\n    at endReadableNT (_stream_readable.js:1103:12)\\n    at process._tickCallback (internal/process/next_tick.js:63:19)\"},\"message\":\"[search_phase_execution_exception] all shards failed\"}",
                        "count": 1
                      },
                      {
                        "name": "Sep 24 03:46:39 localhost kibana: {\"type\":\"error\",\"@timestamp\":\"2020-09-23T18:46:39Z\",\"tags\":[\"warning\",\"stats-collection\"],\"pid\":6458,\"level\":\"error\",\"error\":{\"message\":\"No Living connections\",\"name\":\"Error\",\"stack\":\"Error: No Living connections\\n    at sendReqWithConnection (/usr/share/kibana/node_modules/elasticsearch/src/lib/transport.js:226:15)\\n    at next (/usr/share/kibana/node_modules/elasticsearch/src/lib/connection_pool.js:214:7)\\n    at process._tickCallback (internal/process/next_tick.js:61:11)\"},\"message\":\"No Living connections\"}",
                        "count": 1
                      },
                      {
                        "name": "3 others",
                        "count": 3
                      }
                    ]
                  }
                },
                {
                  "name": "_deepnote_index_column",
                  "dtype": "int64"
                }
              ],
              "rows_top": [
                {
                  "id": 1000000,
                  "full_log": "Feb  8 15:47:26 localhost kibana: {\"type\":\"error\",\"@timestamp\":\"2021-02-08T06:47:26Z\",\"tags\":[\"warning\",\"stats-collection\"],\"pid\":4604,\"level\":\"error\",\"error\":{\"message\":\"[search_phase_execution_exception] all shards failed\",\"name\":\"Error\",\"stack\":\"[search_phase_execution_exception] all shards failed :: {\\\"path\\\":\\\"/.kibana_task_manager/_doc/_search\\\",\\\"query\\\":{\\\"ignore_unavailable\\\":true},\\\"body\\\":\\\"{\\\\\\\"sort\\\\\\\":[{\\\\\\\"task.runAt\\\\\\\":\\\\\\\"asc\\\\\\\"},{\\\\\\\"_id\\\\\\\":\\\\\\\"desc\\\\\\\"}],\\\\\\\"query\\\\\\\":{\\\\\\\"bool\\\\\\\":{\\\\\\\"must\\\\\\\":[{\\\\\\\"term\\\\\\\":{\\\\\\\"type\\\\\\\":\\\\\\\"task\\\\\\\"}},{\\\\\\\"bool\\\\\\\":{\\\\\\\"filter\\\\\\\":{\\\\\\\"term\\\\\\\":{\\\\\\\"_id\\\\\\\":\\\\\\\"oss_telemetry-vis_telemetry\\\\\\\"}}}}]}}}\\\",\\\"statusCode\\\":503,\\\"response\\\":\\\"{\\\\\\\"error\\\\\\\":{\\\\\\\"root_cause\\\\\\\":[],\\\\\\\"type\\\\\\\":\\\\\\\"search_phase_execution_exception\\\\\\\",\\\\\\\"reason\\\\\\\":\\\\\\\"all shards failed\\\\\\\",\\\\\\\"phase\\\\\\\":\\\\\\\"query\\\\\\\",\\\\\\\"grouped\\\\\\\":true,\\\\\\\"failed_shards\\\\\\\":[]},\\\\\\\"status\\\\\\\":503}\\\"}\\n    at respond (/usr/share/kibana/node_modules/elasticsearch/src/lib/transport.js:308:15)\\n    at checkRespForFailure (/usr/share/kibana/node_modules/elasticsearch/src/lib/transport.js:267:7)\\n    at HttpConnector.<anonymous> (/usr/share/kibana/node_modules/elasticsearch/src/lib/connectors/http.js:166:7)\\n    at IncomingMessage.wrapper (/usr/share/kibana/node_modules/elasticsearch/node_modules/lodash/lodash.js:4935:19)\\n    at IncomingMessage.emit (events.js:194:15)\\n    at endReadableNT (_stream_readable.js:1103:12)\\n    at process._tickCallback (internal/process/next_tick.js:63:19)\"},\"message\":\"[search_phase_execution_exception] all shards failed\"}",
                  "_deepnote_index_column": 0
                },
                {
                  "id": 1000001,
                  "full_log": "Sep 24 03:46:39 localhost kibana: {\"type\":\"error\",\"@timestamp\":\"2020-09-23T18:46:39Z\",\"tags\":[\"warning\",\"stats-collection\"],\"pid\":6458,\"level\":\"error\",\"error\":{\"message\":\"No Living connections\",\"name\":\"Error\",\"stack\":\"Error: No Living connections\\n    at sendReqWithConnection (/usr/share/kibana/node_modules/elasticsearch/src/lib/transport.js:226:15)\\n    at next (/usr/share/kibana/node_modules/elasticsearch/src/lib/connection_pool.js:214:7)\\n    at process._tickCallback (internal/process/next_tick.js:61:11)\"},\"message\":\"No Living connections\"}",
                  "_deepnote_index_column": 1
                },
                {
                  "id": 1000002,
                  "full_log": "type=SYSCALL msg=audit(1611888200.428:210563): arch=c000003e syscall=257 success=yes exit=10 a0=ffffffffffffff9c a1=7f89fd9c9030 a2=90800 a3=0 items=1 ppid=1 pid=86518 auid=4294967295 uid=0 gid=980 euid=0 suid=0 fsuid=0 egid=980 sgid=980 fsgid=980 tty=(none) ses=4294967295 comm=\"ossec-syscheckd\" exe=\"/var/esild/bin/ossec-syscheckd\" subj=system_u:system_r:unconfined_service_t:s0 key=\"audit-wazuh-r\" type=CWD msg=audit(1611888200.428:210563):  cwd=\"/\" type=PATH msg=audit(1611888200.428:210563): item=0 name=\"/etc/java/security/security.d\" inode=34054258 dev=fd:00 mode=040755 ouid=0 ogid=0 rdev=00:00 obj=system_u:object_r:etc_t:s0 objtype=NORMAL cap_fp=0000000000000000 cap_fi=0000000000000000 cap_fe=0 cap_fver=0 type=PROCTITLE msg=audit(1611888200.428:210563): proctitle=\"/var/esild/bin/ossec-syscheckd\"",
                  "_deepnote_index_column": 2
                },
                {
                  "id": 1000003,
                  "full_log": "Jan 18 11:24:06 localhost kibana: {\"type\":\"error\",\"@timestamp\":\"2021-01-18T02:24:06Z\",\"tags\":[\"warning\",\"stats-collection\"],\"pid\":9502,\"level\":\"error\",\"error\":{\"message\":\"No Living connections\",\"name\":\"Error\",\"stack\":\"Error: No Living connections\\n    at sendReqWithConnection (/usr/share/kibana/node_modules/elasticsearch/src/lib/transport.js:226:15)\\n    at next (/usr/share/kibana/node_modules/elasticsearch/src/lib/connection_pool.js:214:7)\\n    at process._tickCallback (internal/process/next_tick.js:61:11)\"},\"message\":\"No Living connections\"}",
                  "_deepnote_index_column": 3
                },
                {
                  "id": 1000004,
                  "full_log": "type=SYSCALL msg=audit(1603081202.050:46851): arch=c000003e syscall=2 success=yes exit=11 a0=7fea277c6432 a1=80000 a2=1b6 a3=24 items=1 ppid=1 pid=868 auid=4294967295 uid=999 gid=998 euid=999 suid=999 fsuid=999 egid=998 sgid=998 fsgid=998 tty=(none) ses=4294967295 comm=\"polkitd\" exe=\"/usr/lib/polkit-1/polkitd\" subj=system_u:system_r:policykit_t:s0 key=\"audit-wazuh-r\" type=CWD msg=audit(1603081202.050:46851):  cwd=\"/\" type=PATH msg=audit(1603081202.050:46851): item=0 name=\"/etc/passwd\" inode=68678693 dev=fd:00 mode=0100644 ouid=0 ogid=0 rdev=00:00 obj=system_u:object_r:passwd_file_t:s0 objtype=NORMAL type=PROCTITLE msg=audit(1603081202.050:46851): proctitle=2F7573722F6C69622F706F6C6B69742D312F706F6C6B697464002D2D6E6F2D6465627567",
                  "_deepnote_index_column": 4
                }
              ],
              "rows_bottom": null
            },
            "text/plain": "        id                                           full_log\n0  1000000  Feb  8 15:47:26 localhost kibana: {\"type\":\"err...\n1  1000001  Sep 24 03:46:39 localhost kibana: {\"type\":\"err...\n2  1000002  type=SYSCALL msg=audit(1611888200.428:210563):...\n3  1000003  Jan 18 11:24:06 localhost kibana: {\"type\":\"err...\n4  1000004  type=SYSCALL msg=audit(1603081202.050:46851): ...",
            "text/html": "<div>\n<style scoped>\n    .dataframe tbody tr th:only-of-type {\n        vertical-align: middle;\n    }\n\n    .dataframe tbody tr th {\n        vertical-align: top;\n    }\n\n    .dataframe thead th {\n        text-align: right;\n    }\n</style>\n<table border=\"1\" class=\"dataframe\">\n  <thead>\n    <tr style=\"text-align: right;\">\n      <th></th>\n      <th>id</th>\n      <th>full_log</th>\n    </tr>\n  </thead>\n  <tbody>\n    <tr>\n      <th>0</th>\n      <td>1000000</td>\n      <td>Feb  8 15:47:26 localhost kibana: {\"type\":\"err...</td>\n    </tr>\n    <tr>\n      <th>1</th>\n      <td>1000001</td>\n      <td>Sep 24 03:46:39 localhost kibana: {\"type\":\"err...</td>\n    </tr>\n    <tr>\n      <th>2</th>\n      <td>1000002</td>\n      <td>type=SYSCALL msg=audit(1611888200.428:210563):...</td>\n    </tr>\n    <tr>\n      <th>3</th>\n      <td>1000003</td>\n      <td>Jan 18 11:24:06 localhost kibana: {\"type\":\"err...</td>\n    </tr>\n    <tr>\n      <th>4</th>\n      <td>1000004</td>\n      <td>type=SYSCALL msg=audit(1603081202.050:46851): ...</td>\n    </tr>\n  </tbody>\n</table>\n</div>"
          },
          "metadata": {}
        }
      ],
      "execution_count": null
    },
    {
      "cell_type": "code",
      "metadata": {
        "cell_id": "00007-ad35132d-d495-4a37-b489-eeb1972e8500",
        "deepnote_to_be_reexecuted": false,
        "source_hash": "b351bc2",
        "execution_start": 1619004050172,
        "execution_millis": 3626,
        "deepnote_cell_type": "code"
      },
      "source": "#train full_log의 길이 확인\ntrain['full_log'].str.split(' ').str.len().hist(bins=50)",
      "outputs": [
        {
          "output_type": "execute_result",
          "execution_count": 6,
          "data": {
            "text/plain": "<AxesSubplot:>"
          },
          "metadata": {}
        },
        {
          "data": {
            "text/plain": "<Figure size 432x288 with 1 Axes>",
            "image/png": "[encoded data removed]"
          },
          "metadata": {
            "needs_background": "light"
          },
          "output_type": "display_data"
        }
      ],
      "execution_count": null
    },
    {
      "cell_type": "code",
      "metadata": {
        "cell_id": "00008-ea4e33bc-feca-4422-90b6-60363c78b453",
        "deepnote_to_be_reexecuted": false,
        "source_hash": "395ba9bc",
        "execution_start": 1619004053796,
        "execution_millis": 12,
        "deepnote_cell_type": "code"
      },
      "source": "#train level별 값 확인\ntrain['level'].value_counts()",
      "outputs": [
        {
          "output_type": "execute_result",
          "execution_count": 7,
          "data": {
            "text/plain": "0    334065\n1    132517\n3      4141\n5      2219\n2        12\n4        10\n6         8\nName: level, dtype: int64"
          },
          "metadata": {}
        }
      ],
      "execution_count": null
    },
    {
      "cell_type": "markdown",
      "source": "# **3. 데이터 전처리**",
      "metadata": {
        "cell_id": "00009-6d7965e4-5324-4693-a72b-505dd911d5ef",
        "deepnote_cell_type": "markdown"
      }
    },
    {
      "cell_type": "code",
      "metadata": {
        "cell_id": "00010-a8edd2d0-bfdd-4b27-a92d-d4083d109b21",
        "deepnote_to_be_reexecuted": false,
        "source_hash": "6341f06",
        "execution_start": 1619004053849,
        "execution_millis": 36067,
        "deepnote_cell_type": "code"
      },
      "source": "#full_log에서 숫자는 마스킹 처리\ntrain['full_log']=train['full_log'].str.replace(r'[0-9]', '<num>')\ntest['full_log']=test['full_log'].str.replace(r'[0-9]', '<num>')",
      "outputs": [
        {
          "name": "stderr",
          "text": "/shared-libs/python3.7/py-core/lib/python3.7/site-packages/ipykernel_launcher.py:2: FutureWarning: The default value of regex will change from True to False in a future version.\n  \n/shared-libs/python3.7/py-core/lib/python3.7/site-packages/ipykernel_launcher.py:3: FutureWarning: The default value of regex will change from True to False in a future version.\n  This is separate from the ipykernel package so we can avoid doing imports until\n",
          "output_type": "stream"
        }
      ],
      "execution_count": null
    },
    {
      "cell_type": "code",
      "metadata": {
        "cell_id": "00011-1b97b68e-31ae-4bd8-9872-eb83356b0fc5",
        "deepnote_to_be_reexecuted": false,
        "source_hash": "769f3849",
        "execution_start": 1619004089918,
        "execution_millis": 114,
        "deepnote_cell_type": "code"
      },
      "source": "#train['full_log'] => train_text로 list\n#train['level']=> train_level로 array\ntrain_text=list(train['full_log'])\ntrain_level=np.array(train['level'])",
      "outputs": [],
      "execution_count": null
    },
    {
      "cell_type": "code",
      "metadata": {
        "cell_id": "00012-a69e7c92-dbbc-464d-81f6-fd73e3c751f0",
        "deepnote_to_be_reexecuted": false,
        "source_hash": "4f89b48",
        "execution_start": 1619004090033,
        "execution_millis": 39817,
        "deepnote_cell_type": "code"
      },
      "source": "#CountVectorizer로 벡터화\nfrom sklearn.feature_extraction.text import CountVectorizer\nvectorizer=CountVectorizer(analyzer=\"word\", max_features=10000)\n\ntrain_features=vectorizer.fit_transform(train_text)",
      "outputs": [],
      "execution_count": null
    },
    {
      "cell_type": "code",
      "metadata": {
        "cell_id": "00013-3631e209-9f3a-4312-9029-3a8067a5485b",
        "deepnote_to_be_reexecuted": false,
        "source_hash": "6748e6ee",
        "execution_start": 1619004129851,
        "execution_millis": 8,
        "deepnote_cell_type": "code"
      },
      "source": "train_features",
      "outputs": [
        {
          "output_type": "execute_result",
          "execution_count": 11,
          "data": {
            "text/plain": "<472972x10000 sparse matrix of type '<class 'numpy.int64'>'\n\twith 16452589 stored elements in Compressed Sparse Row format>"
          },
          "metadata": {}
        }
      ],
      "execution_count": null
    },
    {
      "cell_type": "markdown",
      "source": "# **4. 모델링**",
      "metadata": {
        "cell_id": "00014-eb2d5f0f-1769-4de9-aaa3-0061a0ada0d6",
        "deepnote_cell_type": "markdown"
      }
    },
    {
      "cell_type": "code",
      "metadata": {
        "cell_id": "00015-5d17817e-962b-4871-80d4-b95c56dd0d12",
        "deepnote_to_be_reexecuted": false,
        "source_hash": "1cf2eae0",
        "execution_start": 1619004129852,
        "execution_millis": 113,
        "deepnote_cell_type": "code"
      },
      "source": "#훈련 데이터 셋과 검증 데이터 셋으로 분리\nTEST_SIZE=0.2\nRANDOM_SEED=42\n\ntrain_x, eval_x, train_y, eval_y=train_test_split(train_features, train_level, test_size=TEST_SIZE, random_state=RANDOM_SEED)",
      "outputs": [],
      "execution_count": null
    },
    {
      "cell_type": "code",
      "metadata": {
        "cell_id": "00016-e0ad7621-6521-40ff-8a31-05ced1ab0d40",
        "deepnote_to_be_reexecuted": false,
        "source_hash": "32188f9d",
        "execution_start": 1619004129968,
        "execution_millis": 146815,
        "deepnote_cell_type": "code"
      },
      "source": "#랜덤포레스트로 모델링\nfrom sklearn.ensemble import RandomForestClassifier\n\nforest=RandomForestClassifier(n_estimators=100)\n\nforest.fit(train_x, train_y)",
      "outputs": [
        {
          "output_type": "execute_result",
          "execution_count": 13,
          "data": {
            "text/plain": "RandomForestClassifier()"
          },
          "metadata": {}
        }
      ],
      "execution_count": null
    },
    {
      "cell_type": "code",
      "metadata": {
        "cell_id": "00017-15a73990-b8e9-40f0-a31a-b4ae12ae626a",
        "deepnote_to_be_reexecuted": false,
        "source_hash": "b17a7a59",
        "execution_start": 1619004276779,
        "execution_millis": 1484,
        "deepnote_cell_type": "code"
      },
      "source": "#모델 검증\nforest.score(eval_x, eval_y)",
      "outputs": [
        {
          "output_type": "execute_result",
          "execution_count": 14,
          "data": {
            "text/plain": "0.9978962947301654"
          },
          "metadata": {}
        }
      ],
      "execution_count": null
    },
    {
      "cell_type": "code",
      "metadata": {
        "cell_id": "00018-913878a5-903d-421a-8e48-6e0777006516",
        "deepnote_to_be_reexecuted": false,
        "source_hash": "5ac88ea0",
        "execution_start": 1619004278260,
        "execution_millis": 1489,
        "deepnote_cell_type": "code"
      },
      "source": "#crosstab으로 확인\npred=forest.predict(eval_x)\ncrosstab = pd.crosstab(eval_y, pred, rownames=['real'], colnames=['pred'])\ncrosstab",
      "outputs": [
        {
          "output_type": "execute_result",
          "execution_count": 15,
          "data": {
            "application/vnd.deepnote.dataframe.v2+json": {
              "row_count": 7,
              "column_count": 6,
              "columns": [
                {
                  "name": 0,
                  "dtype": "int64",
                  "stats": {
                    "unique_count": 5,
                    "nan_count": 0,
                    "min": "0",
                    "max": "66726",
                    "histogram": [
                      {
                        "bin_start": 0,
                        "bin_end": 6672.6,
                        "count": 6
                      },
                      {
                        "bin_start": 6672.6,
                        "bin_end": 13345.2,
                        "count": 0
                      },
                      {
                        "bin_start": 13345.2,
                        "bin_end": 20017.800000000003,
                        "count": 0
                      },
                      {
                        "bin_start": 20017.800000000003,
                        "bin_end": 26690.4,
                        "count": 0
                      },
                      {
                        "bin_start": 26690.4,
                        "bin_end": 33363,
                        "count": 0
                      },
                      {
                        "bin_start": 33363,
                        "bin_end": 40035.600000000006,
                        "count": 0
                      },
                      {
                        "bin_start": 40035.600000000006,
                        "bin_end": 46708.200000000004,
                        "count": 0
                      },
                      {
                        "bin_start": 46708.200000000004,
                        "bin_end": 53380.8,
                        "count": 0
                      },
                      {
                        "bin_start": 53380.8,
                        "bin_end": 60053.4,
                        "count": 0
                      },
                      {
                        "bin_start": 60053.4,
                        "bin_end": 66726,
                        "count": 1
                      }
                    ]
                  }
                },
                {
                  "name": 1,
                  "dtype": "int64",
                  "stats": {
                    "unique_count": 5,
                    "nan_count": 0,
                    "min": "0",
                    "max": "26428",
                    "histogram": [
                      {
                        "bin_start": 0,
                        "bin_end": 2642.8,
                        "count": 6
                      },
                      {
                        "bin_start": 2642.8,
                        "bin_end": 5285.6,
                        "count": 0
                      },
                      {
                        "bin_start": 5285.6,
                        "bin_end": 7928.400000000001,
                        "count": 0
                      },
                      {
                        "bin_start": 7928.400000000001,
                        "bin_end": 10571.2,
                        "count": 0
                      },
                      {
                        "bin_start": 10571.2,
                        "bin_end": 13214,
                        "count": 0
                      },
                      {
                        "bin_start": 13214,
                        "bin_end": 15856.800000000001,
                        "count": 0
                      },
                      {
                        "bin_start": 15856.800000000001,
                        "bin_end": 18499.600000000002,
                        "count": 0
                      },
                      {
                        "bin_start": 18499.600000000002,
                        "bin_end": 21142.4,
                        "count": 0
                      },
                      {
                        "bin_start": 21142.4,
                        "bin_end": 23785.2,
                        "count": 0
                      },
                      {
                        "bin_start": 23785.2,
                        "bin_end": 26428,
                        "count": 1
                      }
                    ]
                  }
                },
                {
                  "name": 2,
                  "dtype": "int64",
                  "stats": {
                    "unique_count": 2,
                    "nan_count": 0,
                    "min": "0",
                    "max": "2",
                    "histogram": [
                      {
                        "bin_start": 0,
                        "bin_end": 0.2,
                        "count": 6
                      },
                      {
                        "bin_start": 0.2,
                        "bin_end": 0.4,
                        "count": 0
                      },
                      {
                        "bin_start": 0.4,
                        "bin_end": 0.6000000000000001,
                        "count": 0
                      },
                      {
                        "bin_start": 0.6000000000000001,
                        "bin_end": 0.8,
                        "count": 0
                      },
                      {
                        "bin_start": 0.8,
                        "bin_end": 1,
                        "count": 0
                      },
                      {
                        "bin_start": 1,
                        "bin_end": 1.2000000000000002,
                        "count": 0
                      },
                      {
                        "bin_start": 1.2000000000000002,
                        "bin_end": 1.4000000000000001,
                        "count": 0
                      },
                      {
                        "bin_start": 1.4000000000000001,
                        "bin_end": 1.6,
                        "count": 0
                      },
                      {
                        "bin_start": 1.6,
                        "bin_end": 1.8,
                        "count": 0
                      },
                      {
                        "bin_start": 1.8,
                        "bin_end": 2,
                        "count": 1
                      }
                    ]
                  }
                },
                {
                  "name": 3,
                  "dtype": "int64",
                  "stats": {
                    "unique_count": 3,
                    "nan_count": 0,
                    "min": "0",
                    "max": "799",
                    "histogram": [
                      {
                        "bin_start": 0,
                        "bin_end": 79.9,
                        "count": 6
                      },
                      {
                        "bin_start": 79.9,
                        "bin_end": 159.8,
                        "count": 0
                      },
                      {
                        "bin_start": 159.8,
                        "bin_end": 239.70000000000002,
                        "count": 0
                      },
                      {
                        "bin_start": 239.70000000000002,
                        "bin_end": 319.6,
                        "count": 0
                      },
                      {
                        "bin_start": 319.6,
                        "bin_end": 399.5,
                        "count": 0
                      },
                      {
                        "bin_start": 399.5,
                        "bin_end": 479.40000000000003,
                        "count": 0
                      },
                      {
                        "bin_start": 479.40000000000003,
                        "bin_end": 559.3000000000001,
                        "count": 0
                      },
                      {
                        "bin_start": 559.3000000000001,
                        "bin_end": 639.2,
                        "count": 0
                      },
                      {
                        "bin_start": 639.2,
                        "bin_end": 719.1,
                        "count": 0
                      },
                      {
                        "bin_start": 719.1,
                        "bin_end": 799,
                        "count": 1
                      }
                    ]
                  }
                },
                {
                  "name": 4,
                  "dtype": "int64",
                  "stats": {
                    "unique_count": 2,
                    "nan_count": 0,
                    "min": "0",
                    "max": "3",
                    "histogram": [
                      {
                        "bin_start": 0,
                        "bin_end": 0.3,
                        "count": 6
                      },
                      {
                        "bin_start": 0.3,
                        "bin_end": 0.6,
                        "count": 0
                      },
                      {
                        "bin_start": 0.6,
                        "bin_end": 0.8999999999999999,
                        "count": 0
                      },
                      {
                        "bin_start": 0.8999999999999999,
                        "bin_end": 1.2,
                        "count": 0
                      },
                      {
                        "bin_start": 1.2,
                        "bin_end": 1.5,
                        "count": 0
                      },
                      {
                        "bin_start": 1.5,
                        "bin_end": 1.7999999999999998,
                        "count": 0
                      },
                      {
                        "bin_start": 1.7999999999999998,
                        "bin_end": 2.1,
                        "count": 0
                      },
                      {
                        "bin_start": 2.1,
                        "bin_end": 2.4,
                        "count": 0
                      },
                      {
                        "bin_start": 2.4,
                        "bin_end": 2.6999999999999997,
                        "count": 0
                      },
                      {
                        "bin_start": 2.6999999999999997,
                        "bin_end": 3,
                        "count": 1
                      }
                    ]
                  }
                },
                {
                  "name": 5,
                  "dtype": "int64",
                  "stats": {
                    "unique_count": 3,
                    "nan_count": 0,
                    "min": "0",
                    "max": "438",
                    "histogram": [
                      {
                        "bin_start": 0,
                        "bin_end": 43.8,
                        "count": 6
                      },
                      {
                        "bin_start": 43.8,
                        "bin_end": 87.6,
                        "count": 0
                      },
                      {
                        "bin_start": 87.6,
                        "bin_end": 131.39999999999998,
                        "count": 0
                      },
                      {
                        "bin_start": 131.39999999999998,
                        "bin_end": 175.2,
                        "count": 0
                      },
                      {
                        "bin_start": 175.2,
                        "bin_end": 219,
                        "count": 0
                      },
                      {
                        "bin_start": 219,
                        "bin_end": 262.79999999999995,
                        "count": 0
                      },
                      {
                        "bin_start": 262.79999999999995,
                        "bin_end": 306.59999999999997,
                        "count": 0
                      },
                      {
                        "bin_start": 306.59999999999997,
                        "bin_end": 350.4,
                        "count": 0
                      },
                      {
                        "bin_start": 350.4,
                        "bin_end": 394.2,
                        "count": 0
                      },
                      {
                        "bin_start": 394.2,
                        "bin_end": 438,
                        "count": 1
                      }
                    ]
                  }
                },
                {
                  "name": "_deepnote_index_column",
                  "dtype": "int64"
                }
              ],
              "rows_top": [
                {
                  "0": 66726,
                  "1": 59,
                  "2": 0,
                  "3": 0,
                  "4": 0,
                  "5": 1,
                  "_deepnote_index_column": 0
                },
                {
                  "0": 118,
                  "1": 26428,
                  "2": 0,
                  "3": 0,
                  "4": 0,
                  "5": 1,
                  "_deepnote_index_column": 1
                },
                {
                  "0": 0,
                  "1": 0,
                  "2": 2,
                  "3": 0,
                  "4": 0,
                  "5": 0,
                  "_deepnote_index_column": 2
                },
                {
                  "0": 1,
                  "1": 1,
                  "2": 0,
                  "3": 799,
                  "4": 0,
                  "5": 0,
                  "_deepnote_index_column": 3
                },
                {
                  "0": 0,
                  "1": 0,
                  "2": 0,
                  "3": 0,
                  "4": 3,
                  "5": 0,
                  "_deepnote_index_column": 4
                },
                {
                  "0": 12,
                  "1": 3,
                  "2": 0,
                  "3": 0,
                  "4": 0,
                  "5": 438,
                  "_deepnote_index_column": 5
                },
                {
                  "0": 1,
                  "1": 0,
                  "2": 0,
                  "3": 2,
                  "4": 0,
                  "5": 0,
                  "_deepnote_index_column": 6
                }
              ],
              "rows_bottom": null
            },
            "text/plain": "pred      0      1  2    3  4    5\nreal                              \n0     66726     59  0    0  0    1\n1       118  26428  0    0  0    1\n2         0      0  2    0  0    0\n3         1      1  0  799  0    0\n4         0      0  0    0  3    0\n5        12      3  0    0  0  438\n6         1      0  0    2  0    0",
            "text/html": "<div>\n<style scoped>\n    .dataframe tbody tr th:only-of-type {\n        vertical-align: middle;\n    }\n\n    .dataframe tbody tr th {\n        vertical-align: top;\n    }\n\n    .dataframe thead th {\n        text-align: right;\n    }\n</style>\n<table border=\"1\" class=\"dataframe\">\n  <thead>\n    <tr style=\"text-align: right;\">\n      <th>pred</th>\n      <th>0</th>\n      <th>1</th>\n      <th>2</th>\n      <th>3</th>\n      <th>4</th>\n      <th>5</th>\n    </tr>\n    <tr>\n      <th>real</th>\n      <th></th>\n      <th></th>\n      <th></th>\n      <th></th>\n      <th></th>\n      <th></th>\n    </tr>\n  </thead>\n  <tbody>\n    <tr>\n      <th>0</th>\n      <td>66726</td>\n      <td>59</td>\n      <td>0</td>\n      <td>0</td>\n      <td>0</td>\n      <td>1</td>\n    </tr>\n    <tr>\n      <th>1</th>\n      <td>118</td>\n      <td>26428</td>\n      <td>0</td>\n      <td>0</td>\n      <td>0</td>\n      <td>1</td>\n    </tr>\n    <tr>\n      <th>2</th>\n      <td>0</td>\n      <td>0</td>\n      <td>2</td>\n      <td>0</td>\n      <td>0</td>\n      <td>0</td>\n    </tr>\n    <tr>\n      <th>3</th>\n      <td>1</td>\n      <td>1</td>\n      <td>0</td>\n      <td>799</td>\n      <td>0</td>\n      <td>0</td>\n    </tr>\n    <tr>\n      <th>4</th>\n      <td>0</td>\n      <td>0</td>\n      <td>0</td>\n      <td>0</td>\n      <td>3</td>\n      <td>0</td>\n    </tr>\n    <tr>\n      <th>5</th>\n      <td>12</td>\n      <td>3</td>\n      <td>0</td>\n      <td>0</td>\n      <td>0</td>\n      <td>438</td>\n    </tr>\n    <tr>\n      <th>6</th>\n      <td>1</td>\n      <td>0</td>\n      <td>0</td>\n      <td>2</td>\n      <td>0</td>\n      <td>0</td>\n    </tr>\n  </tbody>\n</table>\n</div>"
          },
          "metadata": {}
        }
      ],
      "execution_count": null
    },
    {
      "cell_type": "markdown",
      "source": "+ 새로운 위험요소에 대한 가정 추가\n+ => 예측치의 예측 확률이 0.90이하인 경우, 즉 확신이 없을 경우 이상치로 판단 ",
      "metadata": {
        "cell_id": "00019-04fc0ef1-1962-4c3d-9a03-4184ca79812a",
        "deepnote_cell_type": "markdown"
      }
    },
    {
      "cell_type": "code",
      "metadata": {
        "cell_id": "00020-a9761ea9-c50a-4122-b166-9588f4714edb",
        "deepnote_to_be_reexecuted": false,
        "source_hash": "50463489",
        "execution_start": 1619004279750,
        "execution_millis": 3038,
        "deepnote_cell_type": "code"
      },
      "source": "preds=forest.predict(eval_x)\nprobas=forest.predict_proba(eval_x)\nprint(preds.shape)\nprint(probas.shape)",
      "outputs": [
        {
          "name": "stdout",
          "text": "(94595,)\n(94595, 7)\n",
          "output_type": "stream"
        }
      ],
      "execution_count": null
    },
    {
      "cell_type": "code",
      "metadata": {
        "cell_id": "00021-968efdf7-5070-4ac2-ba07-31c7c55ce995",
        "deepnote_to_be_reexecuted": false,
        "source_hash": "5c7a559d",
        "execution_start": 1619004282825,
        "execution_millis": 50,
        "deepnote_cell_type": "code"
      },
      "source": "preds[np.where(np.max(probas, axis=1)<0.90)]=7\nnew_crosstab = pd.crosstab(eval_y, preds, rownames=['real'], colnames=['pred'])\nnew_crosstab",
      "outputs": [
        {
          "output_type": "execute_result",
          "execution_count": 17,
          "data": {
            "application/vnd.deepnote.dataframe.v2+json": {
              "row_count": 7,
              "column_count": 7,
              "columns": [
                {
                  "name": 0,
                  "dtype": "int64",
                  "stats": {
                    "unique_count": 4,
                    "nan_count": 0,
                    "min": "0",
                    "max": "66507",
                    "histogram": [
                      {
                        "bin_start": 0,
                        "bin_end": 6650.7,
                        "count": 6
                      },
                      {
                        "bin_start": 6650.7,
                        "bin_end": 13301.4,
                        "count": 0
                      },
                      {
                        "bin_start": 13301.4,
                        "bin_end": 19952.1,
                        "count": 0
                      },
                      {
                        "bin_start": 19952.1,
                        "bin_end": 26602.8,
                        "count": 0
                      },
                      {
                        "bin_start": 26602.8,
                        "bin_end": 33253.5,
                        "count": 0
                      },
                      {
                        "bin_start": 33253.5,
                        "bin_end": 39904.2,
                        "count": 0
                      },
                      {
                        "bin_start": 39904.2,
                        "bin_end": 46554.9,
                        "count": 0
                      },
                      {
                        "bin_start": 46554.9,
                        "bin_end": 53205.6,
                        "count": 0
                      },
                      {
                        "bin_start": 53205.6,
                        "bin_end": 59856.299999999996,
                        "count": 0
                      },
                      {
                        "bin_start": 59856.299999999996,
                        "bin_end": 66507,
                        "count": 1
                      }
                    ]
                  }
                },
                {
                  "name": 1,
                  "dtype": "int64",
                  "stats": {
                    "unique_count": 3,
                    "nan_count": 0,
                    "min": "0",
                    "max": "26407",
                    "histogram": [
                      {
                        "bin_start": 0,
                        "bin_end": 2640.7,
                        "count": 6
                      },
                      {
                        "bin_start": 2640.7,
                        "bin_end": 5281.4,
                        "count": 0
                      },
                      {
                        "bin_start": 5281.4,
                        "bin_end": 7922.099999999999,
                        "count": 0
                      },
                      {
                        "bin_start": 7922.099999999999,
                        "bin_end": 10562.8,
                        "count": 0
                      },
                      {
                        "bin_start": 10562.8,
                        "bin_end": 13203.5,
                        "count": 0
                      },
                      {
                        "bin_start": 13203.5,
                        "bin_end": 15844.199999999999,
                        "count": 0
                      },
                      {
                        "bin_start": 15844.199999999999,
                        "bin_end": 18484.899999999998,
                        "count": 0
                      },
                      {
                        "bin_start": 18484.899999999998,
                        "bin_end": 21125.6,
                        "count": 0
                      },
                      {
                        "bin_start": 21125.6,
                        "bin_end": 23766.3,
                        "count": 0
                      },
                      {
                        "bin_start": 23766.3,
                        "bin_end": 26407,
                        "count": 1
                      }
                    ]
                  }
                },
                {
                  "name": 2,
                  "dtype": "int64",
                  "stats": {
                    "unique_count": 2,
                    "nan_count": 0,
                    "min": "0",
                    "max": "2",
                    "histogram": [
                      {
                        "bin_start": 0,
                        "bin_end": 0.2,
                        "count": 6
                      },
                      {
                        "bin_start": 0.2,
                        "bin_end": 0.4,
                        "count": 0
                      },
                      {
                        "bin_start": 0.4,
                        "bin_end": 0.6000000000000001,
                        "count": 0
                      },
                      {
                        "bin_start": 0.6000000000000001,
                        "bin_end": 0.8,
                        "count": 0
                      },
                      {
                        "bin_start": 0.8,
                        "bin_end": 1,
                        "count": 0
                      },
                      {
                        "bin_start": 1,
                        "bin_end": 1.2000000000000002,
                        "count": 0
                      },
                      {
                        "bin_start": 1.2000000000000002,
                        "bin_end": 1.4000000000000001,
                        "count": 0
                      },
                      {
                        "bin_start": 1.4000000000000001,
                        "bin_end": 1.6,
                        "count": 0
                      },
                      {
                        "bin_start": 1.6,
                        "bin_end": 1.8,
                        "count": 0
                      },
                      {
                        "bin_start": 1.8,
                        "bin_end": 2,
                        "count": 1
                      }
                    ]
                  }
                },
                {
                  "name": 3,
                  "dtype": "int64",
                  "stats": {
                    "unique_count": 2,
                    "nan_count": 0,
                    "min": "0",
                    "max": "791",
                    "histogram": [
                      {
                        "bin_start": 0,
                        "bin_end": 79.1,
                        "count": 6
                      },
                      {
                        "bin_start": 79.1,
                        "bin_end": 158.2,
                        "count": 0
                      },
                      {
                        "bin_start": 158.2,
                        "bin_end": 237.29999999999998,
                        "count": 0
                      },
                      {
                        "bin_start": 237.29999999999998,
                        "bin_end": 316.4,
                        "count": 0
                      },
                      {
                        "bin_start": 316.4,
                        "bin_end": 395.5,
                        "count": 0
                      },
                      {
                        "bin_start": 395.5,
                        "bin_end": 474.59999999999997,
                        "count": 0
                      },
                      {
                        "bin_start": 474.59999999999997,
                        "bin_end": 553.6999999999999,
                        "count": 0
                      },
                      {
                        "bin_start": 553.6999999999999,
                        "bin_end": 632.8,
                        "count": 0
                      },
                      {
                        "bin_start": 632.8,
                        "bin_end": 711.9,
                        "count": 0
                      },
                      {
                        "bin_start": 711.9,
                        "bin_end": 791,
                        "count": 1
                      }
                    ]
                  }
                },
                {
                  "name": 4,
                  "dtype": "int64",
                  "stats": {
                    "unique_count": 2,
                    "nan_count": 0,
                    "min": "0",
                    "max": "3",
                    "histogram": [
                      {
                        "bin_start": 0,
                        "bin_end": 0.3,
                        "count": 6
                      },
                      {
                        "bin_start": 0.3,
                        "bin_end": 0.6,
                        "count": 0
                      },
                      {
                        "bin_start": 0.6,
                        "bin_end": 0.8999999999999999,
                        "count": 0
                      },
                      {
                        "bin_start": 0.8999999999999999,
                        "bin_end": 1.2,
                        "count": 0
                      },
                      {
                        "bin_start": 1.2,
                        "bin_end": 1.5,
                        "count": 0
                      },
                      {
                        "bin_start": 1.5,
                        "bin_end": 1.7999999999999998,
                        "count": 0
                      },
                      {
                        "bin_start": 1.7999999999999998,
                        "bin_end": 2.1,
                        "count": 0
                      },
                      {
                        "bin_start": 2.1,
                        "bin_end": 2.4,
                        "count": 0
                      },
                      {
                        "bin_start": 2.4,
                        "bin_end": 2.6999999999999997,
                        "count": 0
                      },
                      {
                        "bin_start": 2.6999999999999997,
                        "bin_end": 3,
                        "count": 1
                      }
                    ]
                  }
                },
                {
                  "name": 5,
                  "dtype": "int64",
                  "stats": {
                    "unique_count": 2,
                    "nan_count": 0,
                    "min": "0",
                    "max": "433",
                    "histogram": [
                      {
                        "bin_start": 0,
                        "bin_end": 43.3,
                        "count": 6
                      },
                      {
                        "bin_start": 43.3,
                        "bin_end": 86.6,
                        "count": 0
                      },
                      {
                        "bin_start": 86.6,
                        "bin_end": 129.89999999999998,
                        "count": 0
                      },
                      {
                        "bin_start": 129.89999999999998,
                        "bin_end": 173.2,
                        "count": 0
                      },
                      {
                        "bin_start": 173.2,
                        "bin_end": 216.5,
                        "count": 0
                      },
                      {
                        "bin_start": 216.5,
                        "bin_end": 259.79999999999995,
                        "count": 0
                      },
                      {
                        "bin_start": 259.79999999999995,
                        "bin_end": 303.09999999999997,
                        "count": 0
                      },
                      {
                        "bin_start": 303.09999999999997,
                        "bin_end": 346.4,
                        "count": 0
                      },
                      {
                        "bin_start": 346.4,
                        "bin_end": 389.7,
                        "count": 0
                      },
                      {
                        "bin_start": 389.7,
                        "bin_end": 433,
                        "count": 1
                      }
                    ]
                  }
                },
                {
                  "name": 7,
                  "dtype": "int64",
                  "stats": {
                    "unique_count": 6,
                    "nan_count": 0,
                    "min": "0",
                    "max": "278",
                    "histogram": [
                      {
                        "bin_start": 0,
                        "bin_end": 27.8,
                        "count": 5
                      },
                      {
                        "bin_start": 27.8,
                        "bin_end": 55.6,
                        "count": 0
                      },
                      {
                        "bin_start": 55.6,
                        "bin_end": 83.4,
                        "count": 0
                      },
                      {
                        "bin_start": 83.4,
                        "bin_end": 111.2,
                        "count": 0
                      },
                      {
                        "bin_start": 111.2,
                        "bin_end": 139,
                        "count": 1
                      },
                      {
                        "bin_start": 139,
                        "bin_end": 166.8,
                        "count": 0
                      },
                      {
                        "bin_start": 166.8,
                        "bin_end": 194.6,
                        "count": 0
                      },
                      {
                        "bin_start": 194.6,
                        "bin_end": 222.4,
                        "count": 0
                      },
                      {
                        "bin_start": 222.4,
                        "bin_end": 250.20000000000002,
                        "count": 0
                      },
                      {
                        "bin_start": 250.20000000000002,
                        "bin_end": 278,
                        "count": 1
                      }
                    ]
                  }
                },
                {
                  "name": "_deepnote_index_column",
                  "dtype": "int64"
                }
              ],
              "rows_top": [
                {
                  "0": 66507,
                  "1": 1,
                  "2": 0,
                  "3": 0,
                  "4": 0,
                  "5": 0,
                  "7": 278,
                  "_deepnote_index_column": 0
                },
                {
                  "0": 22,
                  "1": 26407,
                  "2": 0,
                  "3": 0,
                  "4": 0,
                  "5": 0,
                  "7": 118,
                  "_deepnote_index_column": 1
                },
                {
                  "0": 0,
                  "1": 0,
                  "2": 2,
                  "3": 0,
                  "4": 0,
                  "5": 0,
                  "7": 0,
                  "_deepnote_index_column": 2
                },
                {
                  "0": 0,
                  "1": 0,
                  "2": 0,
                  "3": 791,
                  "4": 0,
                  "5": 0,
                  "7": 10,
                  "_deepnote_index_column": 3
                },
                {
                  "0": 0,
                  "1": 0,
                  "2": 0,
                  "3": 0,
                  "4": 3,
                  "5": 0,
                  "7": 0,
                  "_deepnote_index_column": 4
                },
                {
                  "0": 4,
                  "1": 0,
                  "2": 0,
                  "3": 0,
                  "4": 0,
                  "5": 433,
                  "7": 16,
                  "_deepnote_index_column": 5
                },
                {
                  "0": 0,
                  "1": 0,
                  "2": 0,
                  "3": 0,
                  "4": 0,
                  "5": 0,
                  "7": 3,
                  "_deepnote_index_column": 6
                }
              ],
              "rows_bottom": null
            },
            "text/plain": "pred      0      1  2    3  4    5    7\nreal                                   \n0     66507      1  0    0  0    0  278\n1        22  26407  0    0  0    0  118\n2         0      0  2    0  0    0    0\n3         0      0  0  791  0    0   10\n4         0      0  0    0  3    0    0\n5         4      0  0    0  0  433   16\n6         0      0  0    0  0    0    3",
            "text/html": "<div>\n<style scoped>\n    .dataframe tbody tr th:only-of-type {\n        vertical-align: middle;\n    }\n\n    .dataframe tbody tr th {\n        vertical-align: top;\n    }\n\n    .dataframe thead th {\n        text-align: right;\n    }\n</style>\n<table border=\"1\" class=\"dataframe\">\n  <thead>\n    <tr style=\"text-align: right;\">\n      <th>pred</th>\n      <th>0</th>\n      <th>1</th>\n      <th>2</th>\n      <th>3</th>\n      <th>4</th>\n      <th>5</th>\n      <th>7</th>\n    </tr>\n    <tr>\n      <th>real</th>\n      <th></th>\n      <th></th>\n      <th></th>\n      <th></th>\n      <th></th>\n      <th></th>\n      <th></th>\n    </tr>\n  </thead>\n  <tbody>\n    <tr>\n      <th>0</th>\n      <td>66507</td>\n      <td>1</td>\n      <td>0</td>\n      <td>0</td>\n      <td>0</td>\n      <td>0</td>\n      <td>278</td>\n    </tr>\n    <tr>\n      <th>1</th>\n      <td>22</td>\n      <td>26407</td>\n      <td>0</td>\n      <td>0</td>\n      <td>0</td>\n      <td>0</td>\n      <td>118</td>\n    </tr>\n    <tr>\n      <th>2</th>\n      <td>0</td>\n      <td>0</td>\n      <td>2</td>\n      <td>0</td>\n      <td>0</td>\n      <td>0</td>\n      <td>0</td>\n    </tr>\n    <tr>\n      <th>3</th>\n      <td>0</td>\n      <td>0</td>\n      <td>0</td>\n      <td>791</td>\n      <td>0</td>\n      <td>0</td>\n      <td>10</td>\n    </tr>\n    <tr>\n      <th>4</th>\n      <td>0</td>\n      <td>0</td>\n      <td>0</td>\n      <td>0</td>\n      <td>3</td>\n      <td>0</td>\n      <td>0</td>\n    </tr>\n    <tr>\n      <th>5</th>\n      <td>4</td>\n      <td>0</td>\n      <td>0</td>\n      <td>0</td>\n      <td>0</td>\n      <td>433</td>\n      <td>16</td>\n    </tr>\n    <tr>\n      <th>6</th>\n      <td>0</td>\n      <td>0</td>\n      <td>0</td>\n      <td>0</td>\n      <td>0</td>\n      <td>0</td>\n      <td>3</td>\n    </tr>\n  </tbody>\n</table>\n</div>"
          },
          "metadata": {}
        }
      ],
      "execution_count": null
    },
    {
      "cell_type": "markdown",
      "source": "# **5. 예측**",
      "metadata": {
        "cell_id": "00022-a5e46226-eb57-4428-bb8e-178d13ceee3c",
        "deepnote_cell_type": "markdown"
      }
    },
    {
      "cell_type": "code",
      "metadata": {
        "cell_id": "00023-f3b4c436-a2c5-486e-9df7-adb43326212c",
        "deepnote_to_be_reexecuted": false,
        "source_hash": "5fec271c",
        "execution_start": 1619004283108,
        "execution_millis": 212,
        "deepnote_cell_type": "code"
      },
      "source": "#test 데이터 전처리\ntest_text=list(test['full_log'])\nids=list(test['id'])",
      "outputs": [],
      "execution_count": null
    },
    {
      "cell_type": "code",
      "metadata": {
        "cell_id": "00024-2b6d68f3-7dda-40a1-93dd-e409c89a7965",
        "deepnote_to_be_reexecuted": false,
        "source_hash": "90cebf4",
        "execution_start": 1619004283325,
        "execution_millis": 127817,
        "deepnote_cell_type": "code"
      },
      "source": "#test 데이터 vectorizer\n#주의: fit_transform의 경우 data leakage에 위반될 수 있습니다\ntest_features=vectorizer.transform(test_text)",
      "outputs": [],
      "execution_count": null
    },
    {
      "cell_type": "code",
      "metadata": {
        "cell_id": "00025-25d6475c-3ed8-479d-9512-fa05b4cc64e0",
        "deepnote_to_be_reexecuted": false,
        "source_hash": "8b4bd872",
        "execution_start": 1619004411186,
        "execution_millis": 47709,
        "deepnote_cell_type": "code"
      },
      "source": "results=forest.predict(test_features)\nresults_proba=forest.predict_proba(test_features)\nresults[np.where(np.max(results_proba, axis=1) < 0.9)] = 7",
      "outputs": [],
      "execution_count": null
    },
    {
      "cell_type": "code",
      "metadata": {
        "cell_id": "00026-39220001-48e9-4a5b-975f-b668ab42c2f6",
        "deepnote_to_be_reexecuted": false,
        "source_hash": "adac2008",
        "execution_start": 1619004458899,
        "execution_millis": 4,
        "deepnote_cell_type": "code"
      },
      "source": "submission['level']=results",
      "outputs": [],
      "execution_count": null
    },
    {
      "cell_type": "code",
      "metadata": {
        "cell_id": "00027-7e6e4ff4-3a58-4d4e-8387-e255728c2c8f",
        "deepnote_to_be_reexecuted": false,
        "source_hash": "7498d8cd",
        "execution_start": 1619004458907,
        "execution_millis": 31,
        "deepnote_cell_type": "code"
      },
      "source": "submission",
      "outputs": [
        {
          "output_type": "execute_result",
          "execution_count": 22,
          "data": {
            "application/vnd.deepnote.dataframe.v2+json": {
              "row_count": 1418916,
              "column_count": 2,
              "columns": [
                {
                  "name": "id",
                  "dtype": "int64"
                },
                {
                  "name": "level",
                  "dtype": "int64"
                },
                {
                  "name": "_deepnote_index_column",
                  "dtype": "int64"
                }
              ],
              "rows_top": [
                {
                  "id": 1000000,
                  "level": 0,
                  "_deepnote_index_column": 0
                },
                {
                  "id": 1000001,
                  "level": 0,
                  "_deepnote_index_column": 1
                },
                {
                  "id": 1000002,
                  "level": 1,
                  "_deepnote_index_column": 2
                },
                {
                  "id": 1000003,
                  "level": 0,
                  "_deepnote_index_column": 3
                },
                {
                  "id": 1000004,
                  "level": 1,
                  "_deepnote_index_column": 4
                },
                {
                  "id": 1000005,
                  "level": 0,
                  "_deepnote_index_column": 5
                },
                {
                  "id": 1000006,
                  "level": 0,
                  "_deepnote_index_column": 6
                },
                {
                  "id": 1000007,
                  "level": 3,
                  "_deepnote_index_column": 7
                },
                {
                  "id": 1000008,
                  "level": 1,
                  "_deepnote_index_column": 8
                },
                {
                  "id": 1000009,
                  "level": 0,
                  "_deepnote_index_column": 9
                },
                {
                  "id": 1000010,
                  "level": 0,
                  "_deepnote_index_column": 10
                },
                {
                  "id": 1000011,
                  "level": 0,
                  "_deepnote_index_column": 11
                },
                {
                  "id": 1000012,
                  "level": 7,
                  "_deepnote_index_column": 12
                },
                {
                  "id": 1000013,
                  "level": 0,
                  "_deepnote_index_column": 13
                },
                {
                  "id": 1000014,
                  "level": 0,
                  "_deepnote_index_column": 14
                },
                {
                  "id": 1000015,
                  "level": 1,
                  "_deepnote_index_column": 15
                },
                {
                  "id": 1000016,
                  "level": 0,
                  "_deepnote_index_column": 16
                },
                {
                  "id": 1000017,
                  "level": 0,
                  "_deepnote_index_column": 17
                },
                {
                  "id": 1000018,
                  "level": 3,
                  "_deepnote_index_column": 18
                },
                {
                  "id": 1000019,
                  "level": 0,
                  "_deepnote_index_column": 19
                },
                {
                  "id": 1000020,
                  "level": 1,
                  "_deepnote_index_column": 20
                },
                {
                  "id": 1000021,
                  "level": 0,
                  "_deepnote_index_column": 21
                },
                {
                  "id": 1000022,
                  "level": 0,
                  "_deepnote_index_column": 22
                },
                {
                  "id": 1000023,
                  "level": 0,
                  "_deepnote_index_column": 23
                },
                {
                  "id": 1000024,
                  "level": 0,
                  "_deepnote_index_column": 24
                },
                {
                  "id": 1000025,
                  "level": 1,
                  "_deepnote_index_column": 25
                },
                {
                  "id": 1000026,
                  "level": 0,
                  "_deepnote_index_column": 26
                },
                {
                  "id": 1000027,
                  "level": 0,
                  "_deepnote_index_column": 27
                },
                {
                  "id": 1000028,
                  "level": 0,
                  "_deepnote_index_column": 28
                },
                {
                  "id": 1000029,
                  "level": 0,
                  "_deepnote_index_column": 29
                },
                {
                  "id": 1000030,
                  "level": 0,
                  "_deepnote_index_column": 30
                },
                {
                  "id": 1000031,
                  "level": 1,
                  "_deepnote_index_column": 31
                },
                {
                  "id": 1000032,
                  "level": 1,
                  "_deepnote_index_column": 32
                },
                {
                  "id": 1000033,
                  "level": 1,
                  "_deepnote_index_column": 33
                },
                {
                  "id": 1000034,
                  "level": 1,
                  "_deepnote_index_column": 34
                },
                {
                  "id": 1000035,
                  "level": 0,
                  "_deepnote_index_column": 35
                },
                {
                  "id": 1000036,
                  "level": 1,
                  "_deepnote_index_column": 36
                },
                {
                  "id": 1000037,
                  "level": 0,
                  "_deepnote_index_column": 37
                },
                {
                  "id": 1000038,
                  "level": 1,
                  "_deepnote_index_column": 38
                },
                {
                  "id": 1000039,
                  "level": 1,
                  "_deepnote_index_column": 39
                },
                {
                  "id": 1000040,
                  "level": 0,
                  "_deepnote_index_column": 40
                },
                {
                  "id": 1000041,
                  "level": 1,
                  "_deepnote_index_column": 41
                },
                {
                  "id": 1000042,
                  "level": 1,
                  "_deepnote_index_column": 42
                },
                {
                  "id": 1000043,
                  "level": 0,
                  "_deepnote_index_column": 43
                },
                {
                  "id": 1000044,
                  "level": 0,
                  "_deepnote_index_column": 44
                },
                {
                  "id": 1000045,
                  "level": 0,
                  "_deepnote_index_column": 45
                },
                {
                  "id": 1000046,
                  "level": 1,
                  "_deepnote_index_column": 46
                },
                {
                  "id": 1000047,
                  "level": 0,
                  "_deepnote_index_column": 47
                },
                {
                  "id": 1000048,
                  "level": 1,
                  "_deepnote_index_column": 48
                },
                {
                  "id": 1000049,
                  "level": 1,
                  "_deepnote_index_column": 49
                },
                {
                  "id": 1000050,
                  "level": 0,
                  "_deepnote_index_column": 50
                },
                {
                  "id": 1000051,
                  "level": 1,
                  "_deepnote_index_column": 51
                },
                {
                  "id": 1000052,
                  "level": 0,
                  "_deepnote_index_column": 52
                },
                {
                  "id": 1000053,
                  "level": 0,
                  "_deepnote_index_column": 53
                },
                {
                  "id": 1000054,
                  "level": 0,
                  "_deepnote_index_column": 54
                },
                {
                  "id": 1000055,
                  "level": 0,
                  "_deepnote_index_column": 55
                },
                {
                  "id": 1000056,
                  "level": 0,
                  "_deepnote_index_column": 56
                },
                {
                  "id": 1000057,
                  "level": 0,
                  "_deepnote_index_column": 57
                },
                {
                  "id": 1000058,
                  "level": 0,
                  "_deepnote_index_column": 58
                },
                {
                  "id": 1000059,
                  "level": 0,
                  "_deepnote_index_column": 59
                },
                {
                  "id": 1000060,
                  "level": 0,
                  "_deepnote_index_column": 60
                },
                {
                  "id": 1000061,
                  "level": 0,
                  "_deepnote_index_column": 61
                },
                {
                  "id": 1000062,
                  "level": 0,
                  "_deepnote_index_column": 62
                },
                {
                  "id": 1000063,
                  "level": 1,
                  "_deepnote_index_column": 63
                },
                {
                  "id": 1000064,
                  "level": 1,
                  "_deepnote_index_column": 64
                },
                {
                  "id": 1000065,
                  "level": 0,
                  "_deepnote_index_column": 65
                },
                {
                  "id": 1000066,
                  "level": 0,
                  "_deepnote_index_column": 66
                },
                {
                  "id": 1000067,
                  "level": 1,
                  "_deepnote_index_column": 67
                },
                {
                  "id": 1000068,
                  "level": 1,
                  "_deepnote_index_column": 68
                },
                {
                  "id": 1000069,
                  "level": 3,
                  "_deepnote_index_column": 69
                },
                {
                  "id": 1000070,
                  "level": 1,
                  "_deepnote_index_column": 70
                },
                {
                  "id": 1000071,
                  "level": 0,
                  "_deepnote_index_column": 71
                },
                {
                  "id": 1000072,
                  "level": 0,
                  "_deepnote_index_column": 72
                },
                {
                  "id": 1000073,
                  "level": 0,
                  "_deepnote_index_column": 73
                },
                {
                  "id": 1000074,
                  "level": 0,
                  "_deepnote_index_column": 74
                },
                {
                  "id": 1000075,
                  "level": 0,
                  "_deepnote_index_column": 75
                },
                {
                  "id": 1000076,
                  "level": 0,
                  "_deepnote_index_column": 76
                },
                {
                  "id": 1000077,
                  "level": 0,
                  "_deepnote_index_column": 77
                },
                {
                  "id": 1000078,
                  "level": 0,
                  "_deepnote_index_column": 78
                },
                {
                  "id": 1000079,
                  "level": 1,
                  "_deepnote_index_column": 79
                },
                {
                  "id": 1000080,
                  "level": 0,
                  "_deepnote_index_column": 80
                },
                {
                  "id": 1000081,
                  "level": 0,
                  "_deepnote_index_column": 81
                },
                {
                  "id": 1000082,
                  "level": 0,
                  "_deepnote_index_column": 82
                },
                {
                  "id": 1000083,
                  "level": 0,
                  "_deepnote_index_column": 83
                },
                {
                  "id": 1000084,
                  "level": 0,
                  "_deepnote_index_column": 84
                },
                {
                  "id": 1000085,
                  "level": 0,
                  "_deepnote_index_column": 85
                },
                {
                  "id": 1000086,
                  "level": 0,
                  "_deepnote_index_column": 86
                },
                {
                  "id": 1000087,
                  "level": 0,
                  "_deepnote_index_column": 87
                },
                {
                  "id": 1000088,
                  "level": 0,
                  "_deepnote_index_column": 88
                },
                {
                  "id": 1000089,
                  "level": 1,
                  "_deepnote_index_column": 89
                },
                {
                  "id": 1000090,
                  "level": 1,
                  "_deepnote_index_column": 90
                },
                {
                  "id": 1000091,
                  "level": 0,
                  "_deepnote_index_column": 91
                },
                {
                  "id": 1000092,
                  "level": 0,
                  "_deepnote_index_column": 92
                },
                {
                  "id": 1000093,
                  "level": 0,
                  "_deepnote_index_column": 93
                },
                {
                  "id": 1000094,
                  "level": 0,
                  "_deepnote_index_column": 94
                },
                {
                  "id": 1000095,
                  "level": 0,
                  "_deepnote_index_column": 95
                },
                {
                  "id": 1000096,
                  "level": 1,
                  "_deepnote_index_column": 96
                },
                {
                  "id": 1000097,
                  "level": 0,
                  "_deepnote_index_column": 97
                },
                {
                  "id": 1000098,
                  "level": 0,
                  "_deepnote_index_column": 98
                },
                {
                  "id": 1000099,
                  "level": 0,
                  "_deepnote_index_column": 99
                },
                {
                  "id": 1000100,
                  "level": 0,
                  "_deepnote_index_column": 100
                },
                {
                  "id": 1000101,
                  "level": 1,
                  "_deepnote_index_column": 101
                },
                {
                  "id": 1000102,
                  "level": 0,
                  "_deepnote_index_column": 102
                },
                {
                  "id": 1000103,
                  "level": 0,
                  "_deepnote_index_column": 103
                },
                {
                  "id": 1000104,
                  "level": 0,
                  "_deepnote_index_column": 104
                },
                {
                  "id": 1000105,
                  "level": 0,
                  "_deepnote_index_column": 105
                },
                {
                  "id": 1000106,
                  "level": 0,
                  "_deepnote_index_column": 106
                },
                {
                  "id": 1000107,
                  "level": 0,
                  "_deepnote_index_column": 107
                },
                {
                  "id": 1000108,
                  "level": 0,
                  "_deepnote_index_column": 108
                },
                {
                  "id": 1000109,
                  "level": 1,
                  "_deepnote_index_column": 109
                },
                {
                  "id": 1000110,
                  "level": 0,
                  "_deepnote_index_column": 110
                },
                {
                  "id": 1000111,
                  "level": 0,
                  "_deepnote_index_column": 111
                },
                {
                  "id": 1000112,
                  "level": 0,
                  "_deepnote_index_column": 112
                },
                {
                  "id": 1000113,
                  "level": 0,
                  "_deepnote_index_column": 113
                },
                {
                  "id": 1000114,
                  "level": 1,
                  "_deepnote_index_column": 114
                },
                {
                  "id": 1000115,
                  "level": 1,
                  "_deepnote_index_column": 115
                },
                {
                  "id": 1000116,
                  "level": 0,
                  "_deepnote_index_column": 116
                },
                {
                  "id": 1000117,
                  "level": 0,
                  "_deepnote_index_column": 117
                },
                {
                  "id": 1000118,
                  "level": 0,
                  "_deepnote_index_column": 118
                },
                {
                  "id": 1000119,
                  "level": 0,
                  "_deepnote_index_column": 119
                },
                {
                  "id": 1000120,
                  "level": 0,
                  "_deepnote_index_column": 120
                },
                {
                  "id": 1000121,
                  "level": 0,
                  "_deepnote_index_column": 121
                },
                {
                  "id": 1000122,
                  "level": 0,
                  "_deepnote_index_column": 122
                },
                {
                  "id": 1000123,
                  "level": 0,
                  "_deepnote_index_column": 123
                },
                {
                  "id": 1000124,
                  "level": 0,
                  "_deepnote_index_column": 124
                },
                {
                  "id": 1000125,
                  "level": 3,
                  "_deepnote_index_column": 125
                },
                {
                  "id": 1000126,
                  "level": 0,
                  "_deepnote_index_column": 126
                },
                {
                  "id": 1000127,
                  "level": 0,
                  "_deepnote_index_column": 127
                },
                {
                  "id": 1000128,
                  "level": 1,
                  "_deepnote_index_column": 128
                },
                {
                  "id": 1000129,
                  "level": 0,
                  "_deepnote_index_column": 129
                },
                {
                  "id": 1000130,
                  "level": 0,
                  "_deepnote_index_column": 130
                },
                {
                  "id": 1000131,
                  "level": 0,
                  "_deepnote_index_column": 131
                },
                {
                  "id": 1000132,
                  "level": 0,
                  "_deepnote_index_column": 132
                },
                {
                  "id": 1000133,
                  "level": 0,
                  "_deepnote_index_column": 133
                },
                {
                  "id": 1000134,
                  "level": 1,
                  "_deepnote_index_column": 134
                },
                {
                  "id": 1000135,
                  "level": 0,
                  "_deepnote_index_column": 135
                },
                {
                  "id": 1000136,
                  "level": 0,
                  "_deepnote_index_column": 136
                },
                {
                  "id": 1000137,
                  "level": 0,
                  "_deepnote_index_column": 137
                },
                {
                  "id": 1000138,
                  "level": 0,
                  "_deepnote_index_column": 138
                },
                {
                  "id": 1000139,
                  "level": 1,
                  "_deepnote_index_column": 139
                },
                {
                  "id": 1000140,
                  "level": 0,
                  "_deepnote_index_column": 140
                },
                {
                  "id": 1000141,
                  "level": 1,
                  "_deepnote_index_column": 141
                },
                {
                  "id": 1000142,
                  "level": 1,
                  "_deepnote_index_column": 142
                },
                {
                  "id": 1000143,
                  "level": 0,
                  "_deepnote_index_column": 143
                },
                {
                  "id": 1000144,
                  "level": 0,
                  "_deepnote_index_column": 144
                },
                {
                  "id": 1000145,
                  "level": 1,
                  "_deepnote_index_column": 145
                },
                {
                  "id": 1000146,
                  "level": 1,
                  "_deepnote_index_column": 146
                },
                {
                  "id": 1000147,
                  "level": 0,
                  "_deepnote_index_column": 147
                },
                {
                  "id": 1000148,
                  "level": 0,
                  "_deepnote_index_column": 148
                },
                {
                  "id": 1000149,
                  "level": 0,
                  "_deepnote_index_column": 149
                },
                {
                  "id": 1000150,
                  "level": 0,
                  "_deepnote_index_column": 150
                },
                {
                  "id": 1000151,
                  "level": 1,
                  "_deepnote_index_column": 151
                },
                {
                  "id": 1000152,
                  "level": 1,
                  "_deepnote_index_column": 152
                },
                {
                  "id": 1000153,
                  "level": 0,
                  "_deepnote_index_column": 153
                },
                {
                  "id": 1000154,
                  "level": 0,
                  "_deepnote_index_column": 154
                },
                {
                  "id": 1000155,
                  "level": 0,
                  "_deepnote_index_column": 155
                },
                {
                  "id": 1000156,
                  "level": 1,
                  "_deepnote_index_column": 156
                },
                {
                  "id": 1000157,
                  "level": 0,
                  "_deepnote_index_column": 157
                },
                {
                  "id": 1000158,
                  "level": 1,
                  "_deepnote_index_column": 158
                },
                {
                  "id": 1000159,
                  "level": 0,
                  "_deepnote_index_column": 159
                },
                {
                  "id": 1000160,
                  "level": 0,
                  "_deepnote_index_column": 160
                },
                {
                  "id": 1000161,
                  "level": 0,
                  "_deepnote_index_column": 161
                },
                {
                  "id": 1000162,
                  "level": 0,
                  "_deepnote_index_column": 162
                },
                {
                  "id": 1000163,
                  "level": 1,
                  "_deepnote_index_column": 163
                },
                {
                  "id": 1000164,
                  "level": 0,
                  "_deepnote_index_column": 164
                },
                {
                  "id": 1000165,
                  "level": 0,
                  "_deepnote_index_column": 165
                },
                {
                  "id": 1000166,
                  "level": 0,
                  "_deepnote_index_column": 166
                },
                {
                  "id": 1000167,
                  "level": 0,
                  "_deepnote_index_column": 167
                },
                {
                  "id": 1000168,
                  "level": 0,
                  "_deepnote_index_column": 168
                },
                {
                  "id": 1000169,
                  "level": 0,
                  "_deepnote_index_column": 169
                },
                {
                  "id": 1000170,
                  "level": 0,
                  "_deepnote_index_column": 170
                },
                {
                  "id": 1000171,
                  "level": 0,
                  "_deepnote_index_column": 171
                },
                {
                  "id": 1000172,
                  "level": 0,
                  "_deepnote_index_column": 172
                },
                {
                  "id": 1000173,
                  "level": 0,
                  "_deepnote_index_column": 173
                },
                {
                  "id": 1000174,
                  "level": 0,
                  "_deepnote_index_column": 174
                },
                {
                  "id": 1000175,
                  "level": 0,
                  "_deepnote_index_column": 175
                },
                {
                  "id": 1000176,
                  "level": 0,
                  "_deepnote_index_column": 176
                },
                {
                  "id": 1000177,
                  "level": 1,
                  "_deepnote_index_column": 177
                },
                {
                  "id": 1000178,
                  "level": 0,
                  "_deepnote_index_column": 178
                },
                {
                  "id": 1000179,
                  "level": 0,
                  "_deepnote_index_column": 179
                },
                {
                  "id": 1000180,
                  "level": 0,
                  "_deepnote_index_column": 180
                },
                {
                  "id": 1000181,
                  "level": 1,
                  "_deepnote_index_column": 181
                },
                {
                  "id": 1000182,
                  "level": 0,
                  "_deepnote_index_column": 182
                },
                {
                  "id": 1000183,
                  "level": 0,
                  "_deepnote_index_column": 183
                },
                {
                  "id": 1000184,
                  "level": 0,
                  "_deepnote_index_column": 184
                },
                {
                  "id": 1000185,
                  "level": 0,
                  "_deepnote_index_column": 185
                },
                {
                  "id": 1000186,
                  "level": 1,
                  "_deepnote_index_column": 186
                },
                {
                  "id": 1000187,
                  "level": 1,
                  "_deepnote_index_column": 187
                },
                {
                  "id": 1000188,
                  "level": 0,
                  "_deepnote_index_column": 188
                },
                {
                  "id": 1000189,
                  "level": 0,
                  "_deepnote_index_column": 189
                },
                {
                  "id": 1000190,
                  "level": 1,
                  "_deepnote_index_column": 190
                },
                {
                  "id": 1000191,
                  "level": 0,
                  "_deepnote_index_column": 191
                },
                {
                  "id": 1000192,
                  "level": 0,
                  "_deepnote_index_column": 192
                },
                {
                  "id": 1000193,
                  "level": 1,
                  "_deepnote_index_column": 193
                },
                {
                  "id": 1000194,
                  "level": 0,
                  "_deepnote_index_column": 194
                },
                {
                  "id": 1000195,
                  "level": 0,
                  "_deepnote_index_column": 195
                },
                {
                  "id": 1000196,
                  "level": 1,
                  "_deepnote_index_column": 196
                },
                {
                  "id": 1000197,
                  "level": 1,
                  "_deepnote_index_column": 197
                },
                {
                  "id": 1000198,
                  "level": 0,
                  "_deepnote_index_column": 198
                },
                {
                  "id": 1000199,
                  "level": 1,
                  "_deepnote_index_column": 199
                },
                {
                  "id": 1000200,
                  "level": 0,
                  "_deepnote_index_column": 200
                },
                {
                  "id": 1000201,
                  "level": 0,
                  "_deepnote_index_column": 201
                },
                {
                  "id": 1000202,
                  "level": 1,
                  "_deepnote_index_column": 202
                },
                {
                  "id": 1000203,
                  "level": 0,
                  "_deepnote_index_column": 203
                },
                {
                  "id": 1000204,
                  "level": 0,
                  "_deepnote_index_column": 204
                },
                {
                  "id": 1000205,
                  "level": 0,
                  "_deepnote_index_column": 205
                },
                {
                  "id": 1000206,
                  "level": 0,
                  "_deepnote_index_column": 206
                },
                {
                  "id": 1000207,
                  "level": 0,
                  "_deepnote_index_column": 207
                },
                {
                  "id": 1000208,
                  "level": 0,
                  "_deepnote_index_column": 208
                },
                {
                  "id": 1000209,
                  "level": 0,
                  "_deepnote_index_column": 209
                },
                {
                  "id": 1000210,
                  "level": 0,
                  "_deepnote_index_column": 210
                },
                {
                  "id": 1000211,
                  "level": 0,
                  "_deepnote_index_column": 211
                },
                {
                  "id": 1000212,
                  "level": 1,
                  "_deepnote_index_column": 212
                },
                {
                  "id": 1000213,
                  "level": 0,
                  "_deepnote_index_column": 213
                },
                {
                  "id": 1000214,
                  "level": 1,
                  "_deepnote_index_column": 214
                },
                {
                  "id": 1000215,
                  "level": 0,
                  "_deepnote_index_column": 215
                },
                {
                  "id": 1000216,
                  "level": 0,
                  "_deepnote_index_column": 216
                },
                {
                  "id": 1000217,
                  "level": 0,
                  "_deepnote_index_column": 217
                },
                {
                  "id": 1000218,
                  "level": 0,
                  "_deepnote_index_column": 218
                },
                {
                  "id": 1000219,
                  "level": 0,
                  "_deepnote_index_column": 219
                },
                {
                  "id": 1000220,
                  "level": 0,
                  "_deepnote_index_column": 220
                },
                {
                  "id": 1000221,
                  "level": 0,
                  "_deepnote_index_column": 221
                },
                {
                  "id": 1000222,
                  "level": 1,
                  "_deepnote_index_column": 222
                },
                {
                  "id": 1000223,
                  "level": 0,
                  "_deepnote_index_column": 223
                },
                {
                  "id": 1000224,
                  "level": 0,
                  "_deepnote_index_column": 224
                },
                {
                  "id": 1000225,
                  "level": 0,
                  "_deepnote_index_column": 225
                },
                {
                  "id": 1000226,
                  "level": 1,
                  "_deepnote_index_column": 226
                },
                {
                  "id": 1000227,
                  "level": 0,
                  "_deepnote_index_column": 227
                },
                {
                  "id": 1000228,
                  "level": 0,
                  "_deepnote_index_column": 228
                },
                {
                  "id": 1000229,
                  "level": 1,
                  "_deepnote_index_column": 229
                },
                {
                  "id": 1000230,
                  "level": 0,
                  "_deepnote_index_column": 230
                },
                {
                  "id": 1000231,
                  "level": 0,
                  "_deepnote_index_column": 231
                },
                {
                  "id": 1000232,
                  "level": 0,
                  "_deepnote_index_column": 232
                },
                {
                  "id": 1000233,
                  "level": 0,
                  "_deepnote_index_column": 233
                },
                {
                  "id": 1000234,
                  "level": 0,
                  "_deepnote_index_column": 234
                },
                {
                  "id": 1000235,
                  "level": 1,
                  "_deepnote_index_column": 235
                },
                {
                  "id": 1000236,
                  "level": 1,
                  "_deepnote_index_column": 236
                },
                {
                  "id": 1000237,
                  "level": 1,
                  "_deepnote_index_column": 237
                },
                {
                  "id": 1000238,
                  "level": 0,
                  "_deepnote_index_column": 238
                },
                {
                  "id": 1000239,
                  "level": 1,
                  "_deepnote_index_column": 239
                },
                {
                  "id": 1000240,
                  "level": 0,
                  "_deepnote_index_column": 240
                },
                {
                  "id": 1000241,
                  "level": 1,
                  "_deepnote_index_column": 241
                },
                {
                  "id": 1000242,
                  "level": 0,
                  "_deepnote_index_column": 242
                },
                {
                  "id": 1000243,
                  "level": 1,
                  "_deepnote_index_column": 243
                },
                {
                  "id": 1000244,
                  "level": 1,
                  "_deepnote_index_column": 244
                },
                {
                  "id": 1000245,
                  "level": 0,
                  "_deepnote_index_column": 245
                },
                {
                  "id": 1000246,
                  "level": 0,
                  "_deepnote_index_column": 246
                },
                {
                  "id": 1000247,
                  "level": 0,
                  "_deepnote_index_column": 247
                },
                {
                  "id": 1000248,
                  "level": 0,
                  "_deepnote_index_column": 248
                },
                {
                  "id": 1000249,
                  "level": 0,
                  "_deepnote_index_column": 249
                }
              ],
              "rows_bottom": [
                {
                  "id": 2418666,
                  "level": 0,
                  "_deepnote_index_column": 1418666
                },
                {
                  "id": 2418667,
                  "level": 0,
                  "_deepnote_index_column": 1418667
                },
                {
                  "id": 2418668,
                  "level": 0,
                  "_deepnote_index_column": 1418668
                },
                {
                  "id": 2418669,
                  "level": 0,
                  "_deepnote_index_column": 1418669
                },
                {
                  "id": 2418670,
                  "level": 0,
                  "_deepnote_index_column": 1418670
                },
                {
                  "id": 2418671,
                  "level": 0,
                  "_deepnote_index_column": 1418671
                },
                {
                  "id": 2418672,
                  "level": 0,
                  "_deepnote_index_column": 1418672
                },
                {
                  "id": 2418673,
                  "level": 0,
                  "_deepnote_index_column": 1418673
                },
                {
                  "id": 2418674,
                  "level": 0,
                  "_deepnote_index_column": 1418674
                },
                {
                  "id": 2418675,
                  "level": 0,
                  "_deepnote_index_column": 1418675
                },
                {
                  "id": 2418676,
                  "level": 0,
                  "_deepnote_index_column": 1418676
                },
                {
                  "id": 2418677,
                  "level": 0,
                  "_deepnote_index_column": 1418677
                },
                {
                  "id": 2418678,
                  "level": 0,
                  "_deepnote_index_column": 1418678
                },
                {
                  "id": 2418679,
                  "level": 0,
                  "_deepnote_index_column": 1418679
                },
                {
                  "id": 2418680,
                  "level": 0,
                  "_deepnote_index_column": 1418680
                },
                {
                  "id": 2418681,
                  "level": 1,
                  "_deepnote_index_column": 1418681
                },
                {
                  "id": 2418682,
                  "level": 1,
                  "_deepnote_index_column": 1418682
                },
                {
                  "id": 2418683,
                  "level": 0,
                  "_deepnote_index_column": 1418683
                },
                {
                  "id": 2418684,
                  "level": 0,
                  "_deepnote_index_column": 1418684
                },
                {
                  "id": 2418685,
                  "level": 1,
                  "_deepnote_index_column": 1418685
                },
                {
                  "id": 2418686,
                  "level": 1,
                  "_deepnote_index_column": 1418686
                },
                {
                  "id": 2418687,
                  "level": 0,
                  "_deepnote_index_column": 1418687
                },
                {
                  "id": 2418688,
                  "level": 0,
                  "_deepnote_index_column": 1418688
                },
                {
                  "id": 2418689,
                  "level": 0,
                  "_deepnote_index_column": 1418689
                },
                {
                  "id": 2418690,
                  "level": 0,
                  "_deepnote_index_column": 1418690
                },
                {
                  "id": 2418691,
                  "level": 0,
                  "_deepnote_index_column": 1418691
                },
                {
                  "id": 2418692,
                  "level": 1,
                  "_deepnote_index_column": 1418692
                },
                {
                  "id": 2418693,
                  "level": 0,
                  "_deepnote_index_column": 1418693
                },
                {
                  "id": 2418694,
                  "level": 1,
                  "_deepnote_index_column": 1418694
                },
                {
                  "id": 2418695,
                  "level": 0,
                  "_deepnote_index_column": 1418695
                },
                {
                  "id": 2418696,
                  "level": 0,
                  "_deepnote_index_column": 1418696
                },
                {
                  "id": 2418697,
                  "level": 1,
                  "_deepnote_index_column": 1418697
                },
                {
                  "id": 2418698,
                  "level": 1,
                  "_deepnote_index_column": 1418698
                },
                {
                  "id": 2418699,
                  "level": 0,
                  "_deepnote_index_column": 1418699
                },
                {
                  "id": 2418700,
                  "level": 0,
                  "_deepnote_index_column": 1418700
                },
                {
                  "id": 2418701,
                  "level": 0,
                  "_deepnote_index_column": 1418701
                },
                {
                  "id": 2418702,
                  "level": 1,
                  "_deepnote_index_column": 1418702
                },
                {
                  "id": 2418703,
                  "level": 1,
                  "_deepnote_index_column": 1418703
                },
                {
                  "id": 2418704,
                  "level": 0,
                  "_deepnote_index_column": 1418704
                },
                {
                  "id": 2418705,
                  "level": 1,
                  "_deepnote_index_column": 1418705
                },
                {
                  "id": 2418706,
                  "level": 0,
                  "_deepnote_index_column": 1418706
                },
                {
                  "id": 2418707,
                  "level": 1,
                  "_deepnote_index_column": 1418707
                },
                {
                  "id": 2418708,
                  "level": 0,
                  "_deepnote_index_column": 1418708
                },
                {
                  "id": 2418709,
                  "level": 0,
                  "_deepnote_index_column": 1418709
                },
                {
                  "id": 2418710,
                  "level": 0,
                  "_deepnote_index_column": 1418710
                },
                {
                  "id": 2418711,
                  "level": 0,
                  "_deepnote_index_column": 1418711
                },
                {
                  "id": 2418712,
                  "level": 0,
                  "_deepnote_index_column": 1418712
                },
                {
                  "id": 2418713,
                  "level": 0,
                  "_deepnote_index_column": 1418713
                },
                {
                  "id": 2418714,
                  "level": 1,
                  "_deepnote_index_column": 1418714
                },
                {
                  "id": 2418715,
                  "level": 1,
                  "_deepnote_index_column": 1418715
                },
                {
                  "id": 2418716,
                  "level": 0,
                  "_deepnote_index_column": 1418716
                },
                {
                  "id": 2418717,
                  "level": 0,
                  "_deepnote_index_column": 1418717
                },
                {
                  "id": 2418718,
                  "level": 0,
                  "_deepnote_index_column": 1418718
                },
                {
                  "id": 2418719,
                  "level": 0,
                  "_deepnote_index_column": 1418719
                },
                {
                  "id": 2418720,
                  "level": 0,
                  "_deepnote_index_column": 1418720
                },
                {
                  "id": 2418721,
                  "level": 1,
                  "_deepnote_index_column": 1418721
                },
                {
                  "id": 2418722,
                  "level": 0,
                  "_deepnote_index_column": 1418722
                },
                {
                  "id": 2418723,
                  "level": 1,
                  "_deepnote_index_column": 1418723
                },
                {
                  "id": 2418724,
                  "level": 0,
                  "_deepnote_index_column": 1418724
                },
                {
                  "id": 2418725,
                  "level": 1,
                  "_deepnote_index_column": 1418725
                },
                {
                  "id": 2418726,
                  "level": 1,
                  "_deepnote_index_column": 1418726
                },
                {
                  "id": 2418727,
                  "level": 1,
                  "_deepnote_index_column": 1418727
                },
                {
                  "id": 2418728,
                  "level": 0,
                  "_deepnote_index_column": 1418728
                },
                {
                  "id": 2418729,
                  "level": 1,
                  "_deepnote_index_column": 1418729
                },
                {
                  "id": 2418730,
                  "level": 0,
                  "_deepnote_index_column": 1418730
                },
                {
                  "id": 2418731,
                  "level": 0,
                  "_deepnote_index_column": 1418731
                },
                {
                  "id": 2418732,
                  "level": 1,
                  "_deepnote_index_column": 1418732
                },
                {
                  "id": 2418733,
                  "level": 0,
                  "_deepnote_index_column": 1418733
                },
                {
                  "id": 2418734,
                  "level": 0,
                  "_deepnote_index_column": 1418734
                },
                {
                  "id": 2418735,
                  "level": 0,
                  "_deepnote_index_column": 1418735
                },
                {
                  "id": 2418736,
                  "level": 1,
                  "_deepnote_index_column": 1418736
                },
                {
                  "id": 2418737,
                  "level": 0,
                  "_deepnote_index_column": 1418737
                },
                {
                  "id": 2418738,
                  "level": 0,
                  "_deepnote_index_column": 1418738
                },
                {
                  "id": 2418739,
                  "level": 0,
                  "_deepnote_index_column": 1418739
                },
                {
                  "id": 2418740,
                  "level": 0,
                  "_deepnote_index_column": 1418740
                },
                {
                  "id": 2418741,
                  "level": 0,
                  "_deepnote_index_column": 1418741
                },
                {
                  "id": 2418742,
                  "level": 1,
                  "_deepnote_index_column": 1418742
                },
                {
                  "id": 2418743,
                  "level": 0,
                  "_deepnote_index_column": 1418743
                },
                {
                  "id": 2418744,
                  "level": 1,
                  "_deepnote_index_column": 1418744
                },
                {
                  "id": 2418745,
                  "level": 0,
                  "_deepnote_index_column": 1418745
                },
                {
                  "id": 2418746,
                  "level": 1,
                  "_deepnote_index_column": 1418746
                },
                {
                  "id": 2418747,
                  "level": 3,
                  "_deepnote_index_column": 1418747
                },
                {
                  "id": 2418748,
                  "level": 0,
                  "_deepnote_index_column": 1418748
                },
                {
                  "id": 2418749,
                  "level": 0,
                  "_deepnote_index_column": 1418749
                },
                {
                  "id": 2418750,
                  "level": 0,
                  "_deepnote_index_column": 1418750
                },
                {
                  "id": 2418751,
                  "level": 0,
                  "_deepnote_index_column": 1418751
                },
                {
                  "id": 2418752,
                  "level": 0,
                  "_deepnote_index_column": 1418752
                },
                {
                  "id": 2418753,
                  "level": 0,
                  "_deepnote_index_column": 1418753
                },
                {
                  "id": 2418754,
                  "level": 0,
                  "_deepnote_index_column": 1418754
                },
                {
                  "id": 2418755,
                  "level": 0,
                  "_deepnote_index_column": 1418755
                },
                {
                  "id": 2418756,
                  "level": 0,
                  "_deepnote_index_column": 1418756
                },
                {
                  "id": 2418757,
                  "level": 0,
                  "_deepnote_index_column": 1418757
                },
                {
                  "id": 2418758,
                  "level": 0,
                  "_deepnote_index_column": 1418758
                },
                {
                  "id": 2418759,
                  "level": 0,
                  "_deepnote_index_column": 1418759
                },
                {
                  "id": 2418760,
                  "level": 1,
                  "_deepnote_index_column": 1418760
                },
                {
                  "id": 2418761,
                  "level": 0,
                  "_deepnote_index_column": 1418761
                },
                {
                  "id": 2418762,
                  "level": 0,
                  "_deepnote_index_column": 1418762
                },
                {
                  "id": 2418763,
                  "level": 3,
                  "_deepnote_index_column": 1418763
                },
                {
                  "id": 2418764,
                  "level": 1,
                  "_deepnote_index_column": 1418764
                },
                {
                  "id": 2418765,
                  "level": 0,
                  "_deepnote_index_column": 1418765
                },
                {
                  "id": 2418766,
                  "level": 0,
                  "_deepnote_index_column": 1418766
                },
                {
                  "id": 2418767,
                  "level": 0,
                  "_deepnote_index_column": 1418767
                },
                {
                  "id": 2418768,
                  "level": 0,
                  "_deepnote_index_column": 1418768
                },
                {
                  "id": 2418769,
                  "level": 1,
                  "_deepnote_index_column": 1418769
                },
                {
                  "id": 2418770,
                  "level": 0,
                  "_deepnote_index_column": 1418770
                },
                {
                  "id": 2418771,
                  "level": 0,
                  "_deepnote_index_column": 1418771
                },
                {
                  "id": 2418772,
                  "level": 1,
                  "_deepnote_index_column": 1418772
                },
                {
                  "id": 2418773,
                  "level": 0,
                  "_deepnote_index_column": 1418773
                },
                {
                  "id": 2418774,
                  "level": 1,
                  "_deepnote_index_column": 1418774
                },
                {
                  "id": 2418775,
                  "level": 1,
                  "_deepnote_index_column": 1418775
                },
                {
                  "id": 2418776,
                  "level": 0,
                  "_deepnote_index_column": 1418776
                },
                {
                  "id": 2418777,
                  "level": 1,
                  "_deepnote_index_column": 1418777
                },
                {
                  "id": 2418778,
                  "level": 1,
                  "_deepnote_index_column": 1418778
                },
                {
                  "id": 2418779,
                  "level": 0,
                  "_deepnote_index_column": 1418779
                },
                {
                  "id": 2418780,
                  "level": 0,
                  "_deepnote_index_column": 1418780
                },
                {
                  "id": 2418781,
                  "level": 0,
                  "_deepnote_index_column": 1418781
                },
                {
                  "id": 2418782,
                  "level": 0,
                  "_deepnote_index_column": 1418782
                },
                {
                  "id": 2418783,
                  "level": 0,
                  "_deepnote_index_column": 1418783
                },
                {
                  "id": 2418784,
                  "level": 1,
                  "_deepnote_index_column": 1418784
                },
                {
                  "id": 2418785,
                  "level": 1,
                  "_deepnote_index_column": 1418785
                },
                {
                  "id": 2418786,
                  "level": 0,
                  "_deepnote_index_column": 1418786
                },
                {
                  "id": 2418787,
                  "level": 0,
                  "_deepnote_index_column": 1418787
                },
                {
                  "id": 2418788,
                  "level": 0,
                  "_deepnote_index_column": 1418788
                },
                {
                  "id": 2418789,
                  "level": 1,
                  "_deepnote_index_column": 1418789
                },
                {
                  "id": 2418790,
                  "level": 0,
                  "_deepnote_index_column": 1418790
                },
                {
                  "id": 2418791,
                  "level": 0,
                  "_deepnote_index_column": 1418791
                },
                {
                  "id": 2418792,
                  "level": 0,
                  "_deepnote_index_column": 1418792
                },
                {
                  "id": 2418793,
                  "level": 1,
                  "_deepnote_index_column": 1418793
                },
                {
                  "id": 2418794,
                  "level": 0,
                  "_deepnote_index_column": 1418794
                },
                {
                  "id": 2418795,
                  "level": 0,
                  "_deepnote_index_column": 1418795
                },
                {
                  "id": 2418796,
                  "level": 0,
                  "_deepnote_index_column": 1418796
                },
                {
                  "id": 2418797,
                  "level": 0,
                  "_deepnote_index_column": 1418797
                },
                {
                  "id": 2418798,
                  "level": 0,
                  "_deepnote_index_column": 1418798
                },
                {
                  "id": 2418799,
                  "level": 0,
                  "_deepnote_index_column": 1418799
                },
                {
                  "id": 2418800,
                  "level": 1,
                  "_deepnote_index_column": 1418800
                },
                {
                  "id": 2418801,
                  "level": 0,
                  "_deepnote_index_column": 1418801
                },
                {
                  "id": 2418802,
                  "level": 0,
                  "_deepnote_index_column": 1418802
                },
                {
                  "id": 2418803,
                  "level": 0,
                  "_deepnote_index_column": 1418803
                },
                {
                  "id": 2418804,
                  "level": 0,
                  "_deepnote_index_column": 1418804
                },
                {
                  "id": 2418805,
                  "level": 0,
                  "_deepnote_index_column": 1418805
                },
                {
                  "id": 2418806,
                  "level": 0,
                  "_deepnote_index_column": 1418806
                },
                {
                  "id": 2418807,
                  "level": 0,
                  "_deepnote_index_column": 1418807
                },
                {
                  "id": 2418808,
                  "level": 1,
                  "_deepnote_index_column": 1418808
                },
                {
                  "id": 2418809,
                  "level": 0,
                  "_deepnote_index_column": 1418809
                },
                {
                  "id": 2418810,
                  "level": 0,
                  "_deepnote_index_column": 1418810
                },
                {
                  "id": 2418811,
                  "level": 0,
                  "_deepnote_index_column": 1418811
                },
                {
                  "id": 2418812,
                  "level": 0,
                  "_deepnote_index_column": 1418812
                },
                {
                  "id": 2418813,
                  "level": 1,
                  "_deepnote_index_column": 1418813
                },
                {
                  "id": 2418814,
                  "level": 1,
                  "_deepnote_index_column": 1418814
                },
                {
                  "id": 2418815,
                  "level": 0,
                  "_deepnote_index_column": 1418815
                },
                {
                  "id": 2418816,
                  "level": 1,
                  "_deepnote_index_column": 1418816
                },
                {
                  "id": 2418817,
                  "level": 0,
                  "_deepnote_index_column": 1418817
                },
                {
                  "id": 2418818,
                  "level": 0,
                  "_deepnote_index_column": 1418818
                },
                {
                  "id": 2418819,
                  "level": 0,
                  "_deepnote_index_column": 1418819
                },
                {
                  "id": 2418820,
                  "level": 0,
                  "_deepnote_index_column": 1418820
                },
                {
                  "id": 2418821,
                  "level": 0,
                  "_deepnote_index_column": 1418821
                },
                {
                  "id": 2418822,
                  "level": 0,
                  "_deepnote_index_column": 1418822
                },
                {
                  "id": 2418823,
                  "level": 0,
                  "_deepnote_index_column": 1418823
                },
                {
                  "id": 2418824,
                  "level": 0,
                  "_deepnote_index_column": 1418824
                },
                {
                  "id": 2418825,
                  "level": 0,
                  "_deepnote_index_column": 1418825
                },
                {
                  "id": 2418826,
                  "level": 0,
                  "_deepnote_index_column": 1418826
                },
                {
                  "id": 2418827,
                  "level": 0,
                  "_deepnote_index_column": 1418827
                },
                {
                  "id": 2418828,
                  "level": 0,
                  "_deepnote_index_column": 1418828
                },
                {
                  "id": 2418829,
                  "level": 0,
                  "_deepnote_index_column": 1418829
                },
                {
                  "id": 2418830,
                  "level": 0,
                  "_deepnote_index_column": 1418830
                },
                {
                  "id": 2418831,
                  "level": 0,
                  "_deepnote_index_column": 1418831
                },
                {
                  "id": 2418832,
                  "level": 0,
                  "_deepnote_index_column": 1418832
                },
                {
                  "id": 2418833,
                  "level": 0,
                  "_deepnote_index_column": 1418833
                },
                {
                  "id": 2418834,
                  "level": 0,
                  "_deepnote_index_column": 1418834
                },
                {
                  "id": 2418835,
                  "level": 0,
                  "_deepnote_index_column": 1418835
                },
                {
                  "id": 2418836,
                  "level": 1,
                  "_deepnote_index_column": 1418836
                },
                {
                  "id": 2418837,
                  "level": 0,
                  "_deepnote_index_column": 1418837
                },
                {
                  "id": 2418838,
                  "level": 1,
                  "_deepnote_index_column": 1418838
                },
                {
                  "id": 2418839,
                  "level": 3,
                  "_deepnote_index_column": 1418839
                },
                {
                  "id": 2418840,
                  "level": 0,
                  "_deepnote_index_column": 1418840
                },
                {
                  "id": 2418841,
                  "level": 1,
                  "_deepnote_index_column": 1418841
                },
                {
                  "id": 2418842,
                  "level": 1,
                  "_deepnote_index_column": 1418842
                },
                {
                  "id": 2418843,
                  "level": 1,
                  "_deepnote_index_column": 1418843
                },
                {
                  "id": 2418844,
                  "level": 1,
                  "_deepnote_index_column": 1418844
                },
                {
                  "id": 2418845,
                  "level": 0,
                  "_deepnote_index_column": 1418845
                },
                {
                  "id": 2418846,
                  "level": 0,
                  "_deepnote_index_column": 1418846
                },
                {
                  "id": 2418847,
                  "level": 0,
                  "_deepnote_index_column": 1418847
                },
                {
                  "id": 2418848,
                  "level": 0,
                  "_deepnote_index_column": 1418848
                },
                {
                  "id": 2418849,
                  "level": 0,
                  "_deepnote_index_column": 1418849
                },
                {
                  "id": 2418850,
                  "level": 0,
                  "_deepnote_index_column": 1418850
                },
                {
                  "id": 2418851,
                  "level": 0,
                  "_deepnote_index_column": 1418851
                },
                {
                  "id": 2418852,
                  "level": 0,
                  "_deepnote_index_column": 1418852
                },
                {
                  "id": 2418853,
                  "level": 0,
                  "_deepnote_index_column": 1418853
                },
                {
                  "id": 2418854,
                  "level": 0,
                  "_deepnote_index_column": 1418854
                },
                {
                  "id": 2418855,
                  "level": 0,
                  "_deepnote_index_column": 1418855
                },
                {
                  "id": 2418856,
                  "level": 0,
                  "_deepnote_index_column": 1418856
                },
                {
                  "id": 2418857,
                  "level": 0,
                  "_deepnote_index_column": 1418857
                },
                {
                  "id": 2418858,
                  "level": 1,
                  "_deepnote_index_column": 1418858
                },
                {
                  "id": 2418859,
                  "level": 0,
                  "_deepnote_index_column": 1418859
                },
                {
                  "id": 2418860,
                  "level": 0,
                  "_deepnote_index_column": 1418860
                },
                {
                  "id": 2418861,
                  "level": 0,
                  "_deepnote_index_column": 1418861
                },
                {
                  "id": 2418862,
                  "level": 0,
                  "_deepnote_index_column": 1418862
                },
                {
                  "id": 2418863,
                  "level": 0,
                  "_deepnote_index_column": 1418863
                },
                {
                  "id": 2418864,
                  "level": 0,
                  "_deepnote_index_column": 1418864
                },
                {
                  "id": 2418865,
                  "level": 0,
                  "_deepnote_index_column": 1418865
                },
                {
                  "id": 2418866,
                  "level": 0,
                  "_deepnote_index_column": 1418866
                },
                {
                  "id": 2418867,
                  "level": 0,
                  "_deepnote_index_column": 1418867
                },
                {
                  "id": 2418868,
                  "level": 1,
                  "_deepnote_index_column": 1418868
                },
                {
                  "id": 2418869,
                  "level": 0,
                  "_deepnote_index_column": 1418869
                },
                {
                  "id": 2418870,
                  "level": 0,
                  "_deepnote_index_column": 1418870
                },
                {
                  "id": 2418871,
                  "level": 0,
                  "_deepnote_index_column": 1418871
                },
                {
                  "id": 2418872,
                  "level": 0,
                  "_deepnote_index_column": 1418872
                },
                {
                  "id": 2418873,
                  "level": 0,
                  "_deepnote_index_column": 1418873
                },
                {
                  "id": 2418874,
                  "level": 0,
                  "_deepnote_index_column": 1418874
                },
                {
                  "id": 2418875,
                  "level": 0,
                  "_deepnote_index_column": 1418875
                },
                {
                  "id": 2418876,
                  "level": 0,
                  "_deepnote_index_column": 1418876
                },
                {
                  "id": 2418877,
                  "level": 0,
                  "_deepnote_index_column": 1418877
                },
                {
                  "id": 2418878,
                  "level": 0,
                  "_deepnote_index_column": 1418878
                },
                {
                  "id": 2418879,
                  "level": 1,
                  "_deepnote_index_column": 1418879
                },
                {
                  "id": 2418880,
                  "level": 7,
                  "_deepnote_index_column": 1418880
                },
                {
                  "id": 2418881,
                  "level": 1,
                  "_deepnote_index_column": 1418881
                },
                {
                  "id": 2418882,
                  "level": 1,
                  "_deepnote_index_column": 1418882
                },
                {
                  "id": 2418883,
                  "level": 0,
                  "_deepnote_index_column": 1418883
                },
                {
                  "id": 2418884,
                  "level": 0,
                  "_deepnote_index_column": 1418884
                },
                {
                  "id": 2418885,
                  "level": 0,
                  "_deepnote_index_column": 1418885
                },
                {
                  "id": 2418886,
                  "level": 1,
                  "_deepnote_index_column": 1418886
                },
                {
                  "id": 2418887,
                  "level": 0,
                  "_deepnote_index_column": 1418887
                },
                {
                  "id": 2418888,
                  "level": 1,
                  "_deepnote_index_column": 1418888
                },
                {
                  "id": 2418889,
                  "level": 0,
                  "_deepnote_index_column": 1418889
                },
                {
                  "id": 2418890,
                  "level": 0,
                  "_deepnote_index_column": 1418890
                },
                {
                  "id": 2418891,
                  "level": 0,
                  "_deepnote_index_column": 1418891
                },
                {
                  "id": 2418892,
                  "level": 1,
                  "_deepnote_index_column": 1418892
                },
                {
                  "id": 2418893,
                  "level": 1,
                  "_deepnote_index_column": 1418893
                },
                {
                  "id": 2418894,
                  "level": 1,
                  "_deepnote_index_column": 1418894
                },
                {
                  "id": 2418895,
                  "level": 0,
                  "_deepnote_index_column": 1418895
                },
                {
                  "id": 2418896,
                  "level": 0,
                  "_deepnote_index_column": 1418896
                },
                {
                  "id": 2418897,
                  "level": 0,
                  "_deepnote_index_column": 1418897
                },
                {
                  "id": 2418898,
                  "level": 0,
                  "_deepnote_index_column": 1418898
                },
                {
                  "id": 2418899,
                  "level": 0,
                  "_deepnote_index_column": 1418899
                },
                {
                  "id": 2418900,
                  "level": 0,
                  "_deepnote_index_column": 1418900
                },
                {
                  "id": 2418901,
                  "level": 1,
                  "_deepnote_index_column": 1418901
                },
                {
                  "id": 2418902,
                  "level": 1,
                  "_deepnote_index_column": 1418902
                },
                {
                  "id": 2418903,
                  "level": 0,
                  "_deepnote_index_column": 1418903
                },
                {
                  "id": 2418904,
                  "level": 1,
                  "_deepnote_index_column": 1418904
                },
                {
                  "id": 2418905,
                  "level": 0,
                  "_deepnote_index_column": 1418905
                },
                {
                  "id": 2418906,
                  "level": 0,
                  "_deepnote_index_column": 1418906
                },
                {
                  "id": 2418907,
                  "level": 1,
                  "_deepnote_index_column": 1418907
                },
                {
                  "id": 2418908,
                  "level": 0,
                  "_deepnote_index_column": 1418908
                },
                {
                  "id": 2418909,
                  "level": 0,
                  "_deepnote_index_column": 1418909
                },
                {
                  "id": 2418910,
                  "level": 0,
                  "_deepnote_index_column": 1418910
                },
                {
                  "id": 2418911,
                  "level": 0,
                  "_deepnote_index_column": 1418911
                },
                {
                  "id": 2418912,
                  "level": 0,
                  "_deepnote_index_column": 1418912
                },
                {
                  "id": 2418913,
                  "level": 1,
                  "_deepnote_index_column": 1418913
                },
                {
                  "id": 2418914,
                  "level": 0,
                  "_deepnote_index_column": 1418914
                },
                {
                  "id": 2418915,
                  "level": 0,
                  "_deepnote_index_column": 1418915
                }
              ]
            },
            "text/plain": "              id  level\n0        1000000      0\n1        1000001      0\n2        1000002      1\n3        1000003      0\n4        1000004      1\n...          ...    ...\n1418911  2418911      0\n1418912  2418912      0\n1418913  2418913      1\n1418914  2418914      0\n1418915  2418915      0\n\n[1418916 rows x 2 columns]",
            "text/html": "<div>\n<style scoped>\n    .dataframe tbody tr th:only-of-type {\n        vertical-align: middle;\n    }\n\n    .dataframe tbody tr th {\n        vertical-align: top;\n    }\n\n    .dataframe thead th {\n        text-align: right;\n    }\n</style>\n<table border=\"1\" class=\"dataframe\">\n  <thead>\n    <tr style=\"text-align: right;\">\n      <th></th>\n      <th>id</th>\n      <th>level</th>\n    </tr>\n  </thead>\n  <tbody>\n    <tr>\n      <th>0</th>\n      <td>1000000</td>\n      <td>0</td>\n    </tr>\n    <tr>\n      <th>1</th>\n      <td>1000001</td>\n      <td>0</td>\n    </tr>\n    <tr>\n      <th>2</th>\n      <td>1000002</td>\n      <td>1</td>\n    </tr>\n    <tr>\n      <th>3</th>\n      <td>1000003</td>\n      <td>0</td>\n    </tr>\n    <tr>\n      <th>4</th>\n      <td>1000004</td>\n      <td>1</td>\n    </tr>\n    <tr>\n      <th>...</th>\n      <td>...</td>\n      <td>...</td>\n    </tr>\n    <tr>\n      <th>1418911</th>\n      <td>2418911</td>\n      <td>0</td>\n    </tr>\n    <tr>\n      <th>1418912</th>\n      <td>2418912</td>\n      <td>0</td>\n    </tr>\n    <tr>\n      <th>1418913</th>\n      <td>2418913</td>\n      <td>1</td>\n    </tr>\n    <tr>\n      <th>1418914</th>\n      <td>2418914</td>\n      <td>0</td>\n    </tr>\n    <tr>\n      <th>1418915</th>\n      <td>2418915</td>\n      <td>0</td>\n    </tr>\n  </tbody>\n</table>\n<p>1418916 rows × 2 columns</p>\n</div>"
          },
          "metadata": {}
        }
      ],
      "execution_count": null
    },
    {
      "cell_type": "code",
      "metadata": {
        "cell_id": "00028-a2f070ae-98df-4f67-a791-69fac4a02879",
        "deepnote_to_be_reexecuted": false,
        "source_hash": "cdbadcbf",
        "execution_start": 1619004458935,
        "execution_millis": 1670,
        "deepnote_cell_type": "code"
      },
      "source": "submission.to_csv('baseline_submission.csv', index=False)",
      "outputs": [],
      "execution_count": null
    },
    {
      "cell_type": "code",
      "metadata": {
        "cell_id": "00029-39bd9c10-0f37-4e4e-bc13-2d80f513daf5",
        "deepnote_to_be_reexecuted": false,
        "source_hash": "b623e53d",
        "execution_start": 1619004460607,
        "execution_millis": 1,
        "deepnote_cell_type": "code"
      },
      "source": "",
      "outputs": [],
      "execution_count": null
    },
    {
      "cell_type": "markdown",
      "source": "<a style='text-decoration:none;line-height:16px;display:flex;color:#5B5B62;padding:10px;justify-content:end;' href='https://deepnote.com?utm_source=created-in-deepnote-cell&projectId=6fe4b055-091e-480b-bb3d-16c90f30f056' target=\"_blank\">\n<img alt='Created in deepnote.com' style='display:inline;max-height:16px;margin:0px;margin-right:7.5px;' src='data:image/svg+xml;base64,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' > </img>\nCreated in <span style='font-weight:600;margin-left:4px;'>Deepnote</span></a>",
      "metadata": {
        "tags": [],
        "created_in_deepnote_cell": true,
        "deepnote_cell_type": "markdown"
      }
    }
  ],
  "nbformat": 4,
  "nbformat_minor": 4,
  "metadata": {
    "kernelspec": {
      "display_name": "bdg",
      "language": "python",
      "name": "bdg_env"
    },
    "language_info": {
      "codemirror_mode": {
        "name": "ipython",
        "version": 3
      },
      "file_extension": ".py",
      "mimetype": "text/x-python",
      "name": "python",
      "nbconvert_exporter": "python",
      "pygments_lexer": "ipython3",
      "version": "3.8.5"
    },
    "deepnote_notebook_id": "eccc790b-c4a2-436b-8329-627c4f65c1fa",
    "deepnote": {},
    "deepnote_execution_queue": []
  }
}